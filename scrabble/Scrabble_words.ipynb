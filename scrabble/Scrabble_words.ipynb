{
 "cells": [
  {
   "cell_type": "code",
   "execution_count": null,
   "metadata": {},
   "outputs": [],
   "source": [
    "import numpy as np\n",
    "from matplotlib import pyplot as plt\n",
    "import cv2\n",
    "import string\n",
    "import itertools\n",
    "from PIL import Image\n",
    "import random\n",
    "random.seed(0)"
   ]
  },
  {
   "cell_type": "code",
   "execution_count": null,
   "metadata": {},
   "outputs": [],
   "source": [
    "alphabet = list(string.ascii_lowercase)\n",
    "reps = [9,2,2,4,12,2,3,2,9,1,1,4,2,6,8,2,1,6,4,6,4,2,2,1,2,1]"
   ]
  },
  {
   "cell_type": "code",
   "execution_count": null,
   "metadata": {},
   "outputs": [],
   "source": [
    "actions = []\n",
    "for i,r in enumerate(reps):\n",
    "    actions = actions + [alphabet[i]]*reps[i]\n",
    "random.shuffle(actions)"
   ]
  },
  {
   "cell_type": "code",
   "execution_count": null,
   "metadata": {},
   "outputs": [],
   "source": [
    "# Load tile for each action\n",
    "tx = 20\n",
    "im_list = []\n",
    "for a in actions:\n",
    "    im_list.append(np.asarray(Image.open('./tiles/%s.jpg'%a).resize((tx,tx))))"
   ]
  },
  {
   "cell_type": "code",
   "execution_count": null,
   "metadata": {},
   "outputs": [],
   "source": [
    "# Generate some random 3-6 letter words\n",
    "\n",
    "Nwords = 15000\n",
    "\n",
    "for ac in range(6,len(actions),5):\n",
    "    words = []\n",
    "    for j in range(Nwords):\n",
    "        n_chars = np.random.randint(3,7)\n",
    "        word = np.arange(len(actions[:ac]))\n",
    "        np.random.shuffle(word)\n",
    "        words = words + [word[:n_chars]]\n",
    "\n",
    "    word_grid = np.zeros((Nwords,tx,tx*6,3),dtype=np.uint8)\n",
    "    for i,word in enumerate(words):\n",
    "        for k in range(word.shape[0]):\n",
    "            word_grid[i,:,k*20:(k+1)*20,:] = im_list[word[k]] \n",
    "\n",
    "    np.save('./data/word_pics_%02d.npy'%ac,word_grid)\n",
    "    np.save('./data/actions_%02d.npy'%ac,words)"
   ]
  },
  {
   "cell_type": "code",
   "execution_count": null,
   "metadata": {},
   "outputs": [],
   "source": [
    "for j in range(5):\n",
    "    plt.subplot(2,5,j+1)\n",
    "    plt.imshow(word_grid[5*j:5*j+10,:,:,:].reshape(-1,6*20,3),aspect=1)\n",
    "    plt.axis('off')\n",
    "for j in range(5):\n",
    "    plt.subplot(2,5,j+1+5)\n",
    "    plt.imshow(word_grid[(50+5*j):(50+5*j+10),:,:,:].reshape(-1,6*20,3),aspect=1)\n",
    "    plt.axis('off')\n",
    "plt.subplots_adjust(hspace=0,wspace=0)\n",
    "plt.savefig('random_words.jpg')\n",
    "plt.show()"
   ]
  },
  {
   "cell_type": "code",
   "execution_count": null,
   "metadata": {},
   "outputs": [],
   "source": [
    "# Test words\n",
    "#Test_words = [[67,0,53,13,1],[70,59,9,60,80],[47,17,0,70,53,76],[0,11,80,36,59,53],[76,17,69,77],[29,59,70],[11,59,70,47]]\n",
    "# Test_words = [[30,0,26,6,1],[34,28,2,29,38],[22,8,0,34,26,36],[0,4,38,16,28,26],[36,8,32],[10,28,34],[4,28,34,22]]\n",
    "Test_words = [[15,0,13,3,26],[17,14,1,29,19],[11,4,0,17,13,18],[18,4,16],[5,14,17],[2,14,17,11]]\n",
    "test_word_grid = np.zeros((len(Test_words),tx,tx*6,3),dtype=np.uint8)\n",
    "for i, word in enumerate(Test_words):\n",
    "    for k in range(len(word)):\n",
    "        test_word_grid[i,:,k*20:(k+1)*20,:] = im_list[word[k]] \n",
    "        \n",
    "np.save('./data/test_word_pics.npy',test_word_grid)\n",
    "np.save('./data/test_actions.npy',Test_words)"
   ]
  },
  {
   "cell_type": "code",
   "execution_count": null,
   "metadata": {},
   "outputs": [],
   "source": [
    "for j in range(5):\n",
    "    plt.imshow(test_word_grid[:,:,:,:].reshape(-1,6*20,3))\n",
    "    plt.axis('off')\n",
    "plt.subplots_adjust(hspace=0,wspace=0)\n",
    "plt.savefig('test_words.jpg')\n",
    "plt.show()"
   ]
  },
  {
   "cell_type": "code",
   "execution_count": null,
   "metadata": {},
   "outputs": [],
   "source": [
    "26970+755160+20389320+530122320"
   ]
  }
 ],
 "metadata": {
  "kernelspec": {
   "display_name": "Python 3",
   "language": "python",
   "name": "python3"
  },
  "language_info": {
   "codemirror_mode": {
    "name": "ipython",
    "version": 3
   },
   "file_extension": ".py",
   "mimetype": "text/x-python",
   "name": "python",
   "nbconvert_exporter": "python",
   "pygments_lexer": "ipython3",
   "version": "3.6.9"
  }
 },
 "nbformat": 4,
 "nbformat_minor": 2
}
