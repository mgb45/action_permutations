{
 "cells": [
  {
   "cell_type": "code",
   "execution_count": 1,
   "metadata": {},
   "outputs": [],
   "source": [
    "import numpy as np\n",
    "from matplotlib import pyplot as plt\n",
    "\n",
    "import matplotlib\n",
    "matplotlib.rcParams['pdf.fonttype'] = 42\n",
    "matplotlib.rcParams['ps.fonttype'] = 42\n",
    "\n",
    "plt.style.use('seaborn')\n",
    "\n",
    "nice_fonts = {\n",
    "        # Use LaTeX to write all text\n",
    "        \"text.usetex\": True,\n",
    "        \"font.family\": \"serif\",\n",
    "        # Use 10pt font in plots, to match 10pt font in document\n",
    "        \"axes.labelsize\": 16,\n",
    "        \"font.size\": 16,\n",
    "        # Make the legend/label fonts a little smaller\n",
    "        \"legend.fontsize\": 14,\n",
    "        \"xtick.labelsize\": 14,\n",
    "        \"ytick.labelsize\": 14,\n",
    "}\n",
    "\n",
    "matplotlib.rcParams.update(nice_fonts)"
   ]
  },
  {
   "cell_type": "code",
   "execution_count": 2,
   "metadata": {},
   "outputs": [
    {
     "name": "stdout",
     "output_type": "stream",
     "text": [
      "\r",
      "Missing...\r",
      "Missing...\r",
      "Missing...\r",
      "Missing...\r",
      "Missing...\r",
      "Missing...\r",
      "Missing...\r",
      "Missing...\r",
      "Missing...\r",
      "Missing...\r",
      "Missing...\r",
      "Missing...\r",
      "Missing...\r",
      "Missing...\r",
      "Missing...\r",
      "Missing...\r",
      "Missing..."
     ]
    }
   ],
   "source": [
    "listactions = list(range(6,98,5))\n",
    "hists = []\n",
    "hists_p = []\n",
    "tl = []\n",
    "ac = []\n",
    "pre = []\n",
    "for a in listactions:\n",
    "    \n",
    "    try:\n",
    "        tau = np.load('./ntau_%02d.npy'%a)\n",
    "        prec = np.load('./nprec_%02d.npy'%a)\n",
    "        tl.append(tau.reshape(1,-1))\n",
    "        h,_ = np.histogram(tau,np.linspace(-1,1,10),range=[-1,1])\n",
    "        hists.append(h)\n",
    "        h,_ = np.histogram(prec,np.linspace(0,1,10),range=[0,1])\n",
    "        hists_p.append(h)\n",
    "        ac.append(a)\n",
    "        pre.append(prec.T)\n",
    "    except:\n",
    "        print('\\rMissing...',end='')\n",
    "        "
   ]
  },
  {
   "cell_type": "code",
   "execution_count": 3,
   "metadata": {},
   "outputs": [],
   "source": [
    "tmean = np.mean(np.vstack(tl),axis=1)\n",
    "pmean = np.mean(np.vstack(pre),axis=1)"
   ]
  },
  {
   "cell_type": "code",
   "execution_count": 4,
   "metadata": {
    "scrolled": true
   },
   "outputs": [
    {
     "data": {
      "image/png": "[encoded data removed]",
      "text/plain": [
       "<Figure size 432x288 with 2 Axes>"
      ]
     },
     "metadata": {
      "needs_background": "light"
     },
     "output_type": "display_data"
    }
   ],
   "source": [
    "plt.imshow(np.vstack(hists).T,extent=(ac[0],ac[-1],-1,1), origin='lower', interpolation='None')\n",
    "plt.plot(ac,tmean,'-o',label='Mean',linewidth=3)\n",
    "plt.colorbar(label='Frequency')\n",
    "plt.xlabel('Number actions')\n",
    "plt.ylabel('Kendall\\'s $\\\\tau$')\n",
    "plt.legend()\n",
    "plt.savefig('Scale_degradation.pdf')\n",
    "plt.show()"
   ]
  },
  {
   "cell_type": "code",
   "execution_count": 5,
   "metadata": {},
   "outputs": [
    {
     "data": {
      "image/png": "[encoded data removed]",
      "text/plain": [
       "<Figure size 432x288 with 2 Axes>"
      ]
     },
     "metadata": {
      "needs_background": "light"
     },
     "output_type": "display_data"
    }
   ],
   "source": [
    "plt.imshow(np.vstack(hists_p).T,extent=(ac[0],ac[-1],-1,1), origin='lower', interpolation='None')\n",
    "plt.plot(ac,pmean,'-o',label='Mean',linewidth=3)\n",
    "plt.colorbar(label='Frequency')\n",
    "plt.xlabel('Number actions')\n",
    "plt.ylabel('Mean Precision')\n",
    "plt.legend()\n",
    "plt.savefig('Scale_degradation_precision.pdf')\n",
    "plt.show()"
   ]
  }
 ],
 "metadata": {
  "kernelspec": {
   "display_name": "Python 3",
   "language": "python",
   "name": "python3"
  },
  "language_info": {
   "codemirror_mode": {
    "name": "ipython",
    "version": 3
   },
   "file_extension": ".py",
   "mimetype": "text/x-python",
   "name": "python",
   "nbconvert_exporter": "python",
   "pygments_lexer": "ipython3",
   "version": "3.6.9"
  }
 },
 "nbformat": 4,
 "nbformat_minor": 2
}
