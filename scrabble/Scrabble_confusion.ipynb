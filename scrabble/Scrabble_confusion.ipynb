{
 "cells": [
  {
   "cell_type": "code",
   "execution_count": 1,
   "metadata": {},
   "outputs": [],
   "source": [
    "import numpy as np\n",
    "from matplotlib import pyplot as plt\n",
    "\n",
    "import matplotlib\n",
    "matplotlib.rcParams['pdf.fonttype'] = 42\n",
    "matplotlib.rcParams['ps.fonttype'] = 42\n",
    "\n",
    "plt.style.use('seaborn')\n",
    "\n",
    "nice_fonts = {\n",
    "        # Use LaTeX to write all text\n",
    "        \"text.usetex\": True,\n",
    "        \"font.family\": \"serif\",\n",
    "        # Use 10pt font in plots, to match 10pt font in document\n",
    "        \"axes.labelsize\": 16,\n",
    "        \"font.size\": 16,\n",
    "        # Make the legend/label fonts a little smaller\n",
    "        \"legend.fontsize\": 14,\n",
    "        \"xtick.labelsize\": 14,\n",
    "        \"ytick.labelsize\": 14,\n",
    "}\n",
    "\n",
    "matplotlib.rcParams.update(nice_fonts)"
   ]
  },
  {
   "cell_type": "code",
   "execution_count": 2,
   "metadata": {},
   "outputs": [],
   "source": [
    "import random\n",
    "import string\n",
    "from collections import Counter\n",
    "\n",
    "random.seed(0)\n",
    "\n",
    "alphabet = list(string.ascii_lowercase)\n",
    "reps = [9,2,2,4,12,2,3,2,9,1,1,4,2,6,8,2,1,6,4,6,4,2,2,1,2,1]\n",
    "\n",
    "actions = []\n",
    "for i,r in enumerate(reps):\n",
    "    actions = actions + [alphabet[i]]*reps[i]\n",
    "random.shuffle(actions)"
   ]
  },
  {
   "cell_type": "code",
   "execution_count": 3,
   "metadata": {},
   "outputs": [],
   "source": [
    "bins = np.argsort(actions[:96])"
   ]
  },
  {
   "cell_type": "code",
   "execution_count": 4,
   "metadata": {},
   "outputs": [],
   "source": [
    "gt = np.load('./data/cf_tcn_gt_list_96.npy',allow_pickle=True)\n",
    "pred = np.load('./data/cf_tcn_obj_list_96.npy',allow_pickle=True)"
   ]
  },
  {
   "cell_type": "code",
   "execution_count": 5,
   "metadata": {},
   "outputs": [],
   "source": [
    "X = np.zeros((96,96))\n",
    "for j in range(len(gt)):\n",
    "    for k in range(len(gt[j])):\n",
    "        try:\n",
    "            X[bins[gt[j][k]],bins[pred[j][k]]]=X[bins[gt[j][k]],bins[pred[j][k]]]+1\n",
    "        except:\n",
    "            continue"
   ]
  },
  {
   "cell_type": "code",
   "execution_count": 6,
   "metadata": {},
   "outputs": [],
   "source": [
    "alph = dict(zip(list(string.ascii_lowercase),range(26)))"
   ]
  },
  {
   "cell_type": "code",
   "execution_count": 7,
   "metadata": {},
   "outputs": [],
   "source": [
    "from collections import Counter\n",
    "freqs = dict(Counter(actions))"
   ]
  },
  {
   "cell_type": "code",
   "execution_count": 8,
   "metadata": {},
   "outputs": [],
   "source": [
    "alph_counts = dict(sorted(freqs.items(), key=lambda item: item[1]))"
   ]
  },
  {
   "cell_type": "code",
   "execution_count": 9,
   "metadata": {},
   "outputs": [],
   "source": [
    "bins = [alph[a] for a in alph_counts.keys()]"
   ]
  },
  {
   "cell_type": "code",
   "execution_count": 10,
   "metadata": {},
   "outputs": [],
   "source": [
    "a_suc = np.zeros(26)\n",
    "a_fail = np.zeros(26)\n",
    "for i in range(len(gt)):\n",
    "    for j in range(len(gt[i])):\n",
    "        idx = alph[actions[gt[i][j]]]\n",
    "        if (actions[gt[i][j]]==actions[pred[i][j]]):\n",
    "            a_suc[idx] = a_suc[idx]+1\n",
    "        else:\n",
    "            a_fail[idx] = a_fail[idx]+1"
   ]
  },
  {
   "cell_type": "code",
   "execution_count": 11,
   "metadata": {},
   "outputs": [],
   "source": [
    "Nerrs = np.zeros(len(gt))\n",
    "Nreps = np.zeros(len(gt))\n",
    "for i in range(len(gt)):\n",
    "    Nreps[i] = len(set([actions[j] for j in gt[i]]))#-len(gt[i]))/len(gt[i])\n",
    "    for j in range(len(gt[i])):\n",
    "        idx = alph[actions[gt[i][j]]]\n",
    "        if (actions[gt[i][j]]!=actions[pred[i][j]]):\n",
    "            Nerrs[i] = Nerrs[i] + 1"
   ]
  },
  {
   "cell_type": "code",
   "execution_count": 12,
   "metadata": {},
   "outputs": [],
   "source": [
    "gt = np.load('./data/cf_gt_96.npy',allow_pickle=True)\n",
    "gt = [np.argmax(g,1) for g in gt]\n",
    "pred = np.load('./data/cf_obj_list_96.npy',allow_pickle=True)"
   ]
  },
  {
   "cell_type": "code",
   "execution_count": 13,
   "metadata": {},
   "outputs": [],
   "source": [
    "a_suc_1 = np.zeros(26)\n",
    "a_fail_1 = np.zeros(26)\n",
    "for i in range(len(gt)):\n",
    "    for j in range(len(gt[i])):\n",
    "        idx = alph[actions[gt[i][j]]]\n",
    "        if (actions[gt[i][j]]==actions[pred[i][j]]):\n",
    "            a_suc_1[idx] = a_suc_1[idx]+1\n",
    "        else:\n",
    "            a_fail_1[idx] = a_fail_1[idx]+1"
   ]
  },
  {
   "cell_type": "code",
   "execution_count": 14,
   "metadata": {},
   "outputs": [],
   "source": [
    "Nerrs_1 = np.zeros(len(gt))\n",
    "Nreps_1 = np.zeros(len(gt))\n",
    "for i in range(len(gt)):\n",
    "    Nreps_1[i] = len(set([actions[j] for j in gt[i]]))#-len(gt[i]))/len(gt[i])\n",
    "    for j in range(len(gt[i])):\n",
    "        idx = alph[actions[gt[i][j]]]\n",
    "        if (actions[gt[i][j]]!=actions[pred[i][j]]):\n",
    "            Nerrs_1[i] = Nerrs_1[i] + 1"
   ]
  },
  {
   "cell_type": "code",
   "execution_count": 24,
   "metadata": {},
   "outputs": [
    {
     "data": {
      "image/png": "[encoded data removed]",
      "text/plain": [
       "<Figure size 288x288 with 1 Axes>"
      ]
     },
     "metadata": {},
     "output_type": "display_data"
    },
    {
     "data": {
      "image/png": "[encoded data removed]",
      "text/plain": [
       "<Figure size 288x288 with 1 Axes>"
      ]
     },
     "metadata": {},
     "output_type": "display_data"
    },
    {
     "data": {
      "image/png": "[encoded data removed]",
      "text/plain": [
       "<Figure size 288x288 with 2 Axes>"
      ]
     },
     "metadata": {},
     "output_type": "display_data"
    }
   ],
   "source": [
    "from mpl_toolkits.axes_grid1 import make_axes_locatable\n",
    "# fig,ax = plt.subplots()#plt.subplots(1,2,figsize=(11.7,8.27))\n",
    "plt.figure(figsize=(4,4))\n",
    "_,_,_,im = plt.hist2d(Nreps,Nerrs,[np.linspace(0,6,10),np.linspace(0,6,10)],cmap='viridis',vmax=1400)\n",
    "plt.ylabel('Number of errors in sequence')\n",
    "plt.xlabel('Number of repetitions in sequence')\n",
    "plt.title('BC+TCN+Hungarian')\n",
    "# plt.colorbar(label='Frequency')\n",
    "ax = plt.gca()\n",
    "ax.set_aspect(1.0)\n",
    "# divider = make_axes_locatable(ax)\n",
    "# cax = divider.new_horizontal(size=\"5%\", pad=0.5)#, pack_start=True)\n",
    "# fig.add_axes(cax)\n",
    "# fig.colorbar(im, cax=cax, orientation=\"vertical\", label='Frequency')\n",
    "plt.tight_layout()\n",
    "plt.savefig('Error_analysis_tcn.pdf')\n",
    "plt.show()\n",
    "\n",
    "plt.figure(figsize=(4,4))\n",
    "# fig,ax = plt.subplots()#plt.subplots(1,2,figsize=(11.7,8.27))\n",
    "_,_,_,im = plt.hist2d(Nreps_1,Nerrs_1,[np.linspace(0,6,10),np.linspace(0,6,10)],cmap='viridis',vmax=1400)\n",
    "plt.ylabel('Number of errors in sequence')\n",
    "plt.xlabel('Number of repetitions in sequence')\n",
    "plt.title('BC+Sinkhorn')\n",
    "# plt.colorbar(label='Frequency')\n",
    "ax = plt.gca()\n",
    "ax.set_aspect(1.0)\n",
    "# divider = make_axes_locatable(ax)\n",
    "# cax = divider.new_horizontal(size=\"5%\", pad=0.5)#, pack_start=True)\n",
    "# fig.add_axes(cax)\n",
    "# fig.colorbar(im, cax=cax, orientation=\"vertical\", label='Frequency')\n",
    "plt.tight_layout()\n",
    "plt.savefig('Error_analysis_sink.pdf')\n",
    "plt.show()\n",
    "\n",
    "\n",
    "fig,ax = plt.subplots(figsize=(4,4))#plt.subplots(1,2,figsize=(11.7,8.27))\n",
    "# _,_,_,im = plt.hist2d(Nreps_1,Nerrs_1,[np.linspace(0,6,10),np.linspace(0,6,10)],cmap='viridis',vmax=1400)\n",
    "# plt.ylabel('Number of errors in sequence')\n",
    "# plt.xlabel('Number of repetitions in sequence')\n",
    "# plt.title('BC+Sinkhorn')\n",
    "# # plt.colorbar(label='Frequency')\n",
    "# ax = plt.gca()\n",
    "# ax.set_aspect(1.0)\n",
    "plt.axis('off')\n",
    "divider = make_axes_locatable(ax)\n",
    "cax = divider.new_horizontal(size=\"5%\", pad=0.5)#, pack_start=True)\n",
    "fig.add_axes(cax)\n",
    "fig.colorbar(im, cax=cax, orientation=\"vertical\", label='Frequency')\n",
    "plt.tight_layout()\n",
    "plt.savefig('Error_analysis_cb.pdf')\n",
    "plt.show()"
   ]
  },
  {
   "cell_type": "code",
   "execution_count": 16,
   "metadata": {
    "scrolled": true
   },
   "outputs": [
    {
     "data": {
      "image/png": "[encoded data removed]",
      "text/plain": [
       "<Figure size 576x396 with 1 Axes>"
      ]
     },
     "metadata": {},
     "output_type": "display_data"
    }
   ],
   "source": [
    "# plt.figure(figsize=(9,2.5))\n",
    "plt.bar(np.arange(26)-0.2, a_suc/(a_suc+a_fail),width=0.4, label='BC+TCN+Hungarian')\n",
    "plt.bar(np.arange(26)+0.2, a_suc_1/(a_suc_1+a_fail_1),width=0.4,label='BC+Sinkhorn')\n",
    "plt.xticks(np.arange(26),[list(alph_counts.keys())[i]+' ('+str(list(alph_counts.values())[i])+')' for i in range(26)],rotation='90')\n",
    "plt.ylabel('Accuracy')\n",
    "plt.legend(loc='lower left',facecolor='white',framealpha=1,frameon=True)\n",
    "plt.xlabel('Tiles')\n",
    "ax = plt.gca()\n",
    "ax.set_aspect(10)\n",
    "plt.tight_layout()\n",
    "plt.savefig('Success_letters.pdf')\n",
    "plt.show()"
   ]
  }
 ],
 "metadata": {
  "kernelspec": {
   "display_name": "Python 3",
   "language": "python",
   "name": "python3"
  },
  "language_info": {
   "codemirror_mode": {
    "name": "ipython",
    "version": 3
   },
   "file_extension": ".py",
   "mimetype": "text/x-python",
   "name": "python",
   "nbconvert_exporter": "python",
   "pygments_lexer": "ipython3",
   "version": "3.8.5"
  }
 },
 "nbformat": 4,
 "nbformat_minor": 4
}
