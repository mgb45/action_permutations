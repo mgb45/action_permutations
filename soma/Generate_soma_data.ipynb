{
 "cells": [
  {
   "cell_type": "code",
   "execution_count": 1,
   "metadata": {},
   "outputs": [],
   "source": [
    "import numpy as np\n",
    "from matplotlib import pyplot as plt"
   ]
  },
  {
   "cell_type": "code",
   "execution_count": 2,
   "metadata": {},
   "outputs": [],
   "source": [
    "f = open(\"soma_cube.txt\", \"r\")\n",
    "text = f.read()"
   ]
  },
  {
   "cell_type": "code",
   "execution_count": 3,
   "metadata": {},
   "outputs": [],
   "source": [
    "split_sols = text.split('solution')\n",
    "solutions = [split_sols[j] for j in range(1,241)]"
   ]
  },
  {
   "cell_type": "code",
   "execution_count": 4,
   "metadata": {},
   "outputs": [],
   "source": [
    "action_list = []\n",
    "pic_list = []\n",
    "for s in solutions:\n",
    "\n",
    "    actions = s.split('\\n')[1:8]\n",
    "    action_list.append(actions)\n",
    "    \n",
    "    pic = s.split('\\n')[9:12]\n",
    "    pic_list.append(pic)"
   ]
  },
  {
   "cell_type": "code",
   "execution_count": 5,
   "metadata": {},
   "outputs": [],
   "source": [
    "unique_actions = np.unique(np.concatenate(action_list))"
   ]
  },
  {
   "cell_type": "code",
   "execution_count": 6,
   "metadata": {},
   "outputs": [],
   "source": [
    "seq_list = []\n",
    "for a_seq in action_list:\n",
    "    seq = []\n",
    "    for a in a_seq:\n",
    "        seq.append(unique_actions.tolist().index(a))\n",
    "    seq_list.append(seq)\n",
    "    \n",
    "actions = np.array(seq_list)"
   ]
  },
  {
   "cell_type": "code",
   "execution_count": 7,
   "metadata": {},
   "outputs": [],
   "source": [
    "blocks = ['a','T','p','V','L','Z','b']\n",
    "\n",
    "ims = []\n",
    "for pic in pic_list:\n",
    "    im = np.zeros((3,3,3))\n",
    "    for row in range(3):\n",
    "        bl = ''.join(pic[row].split(' '))\n",
    "        im[row,:,:] = np.array([blocks.index(b) for b in bl]).reshape(3,3)\n",
    "    ims.append(im)"
   ]
  },
  {
   "cell_type": "code",
   "execution_count": 8,
   "metadata": {},
   "outputs": [
    {
     "data": {
      "image/png": "[encoded data removed]",
      "text/plain": [
       "<matplotlib.figure.Figure at 0x7f7861ac2f60>"
      ]
     },
     "metadata": {
      "needs_background": "light"
     },
     "output_type": "display_data"
    }
   ],
   "source": [
    "plt.figure(figsize=(5,5))\n",
    "for j,im in enumerate(ims):\n",
    "    plt.subplot(16,16,j+1)\n",
    "    plt.imshow(im/6)\n",
    "    plt.axis('off')\n",
    "plt.subplots_adjust(hspace=0.05,wspace=0.05)\n",
    "plt.show()"
   ]
  },
  {
   "cell_type": "code",
   "execution_count": 9,
   "metadata": {},
   "outputs": [],
   "source": [
    "np.save('actions.npy',actions)\n",
    "np.save('ims.npy',ims)"
   ]
  },
  {
   "cell_type": "code",
   "execution_count": null,
   "metadata": {},
   "outputs": [],
   "source": []
  }
 ],
 "metadata": {
  "kernelspec": {
   "display_name": "Python 3",
   "language": "python",
   "name": "python3"
  },
  "language_info": {
   "codemirror_mode": {
    "name": "ipython",
    "version": 3
   },
   "file_extension": ".py",
   "mimetype": "text/x-python",
   "name": "python",
   "nbconvert_exporter": "python",
   "pygments_lexer": "ipython3",
   "version": "3.6.9"
  }
 },
 "nbformat": 4,
 "nbformat_minor": 2
}
