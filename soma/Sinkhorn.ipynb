{
 "cells": [
  {
   "cell_type": "code",
   "execution_count": 1,
   "metadata": {},
   "outputs": [],
   "source": [
    "import numpy as np\n",
    "from matplotlib import pyplot as plt\n",
    "\n",
    "from mpl_toolkits.mplot3d import Axes3D\n",
    "from IPython import display\n",
    "\n",
    "from scipy.spatial.transform import Rotation as R\n",
    "\n",
    "import math\n",
    "from copy import copy\n",
    "import glob\n",
    "\n",
    "import random\n",
    "from scipy.stats import kendalltau"
   ]
  },
  {
   "cell_type": "code",
   "execution_count": 2,
   "metadata": {},
   "outputs": [],
   "source": [
    "actions = np.load('actions.npy')\n",
    "ims = np.load('ims.npy')"
   ]
  },
  {
   "cell_type": "code",
   "execution_count": 3,
   "metadata": {},
   "outputs": [],
   "source": [
    "K = np.max(actions)+1"
   ]
  },
  {
   "cell_type": "code",
   "execution_count": 4,
   "metadata": {},
   "outputs": [],
   "source": [
    "import torch\n",
    "import torch.nn as nn\n",
    "from torch.utils.data import Dataset\n",
    "from torch.utils.data import DataLoader\n",
    "device = torch.device('cuda:1')"
   ]
  },
  {
   "cell_type": "code",
   "execution_count": 6,
   "metadata": {},
   "outputs": [],
   "source": [
    "# Set up pytorch dataloader\n",
    "class Sampler(Dataset):\n",
    "    \n",
    "    def __init__(self, ims, actions, K=6):\n",
    "        \n",
    "        self.ims = (torch.FloatTensor(ims.astype('float'))/6).to(device)\n",
    "        self.actions = torch.FloatTensor(actions.astype('float')).to(device)\n",
    "        self.K = K\n",
    "        \n",
    "        \n",
    "    def __len__(self):\n",
    "        \n",
    "        return self.ims.shape[0]\n",
    "    \n",
    "    def __getitem__(self, index):\n",
    "        \n",
    "        im = self.ims[index,:,:,:]\n",
    "        actions = self.actions[index,:]\n",
    "        return im, actions, torch.FloatTensor(np.arange(self.K).astype('float')).to(device)"
   ]
  },
  {
   "cell_type": "code",
   "execution_count": 7,
   "metadata": {},
   "outputs": [],
   "source": [
    "dataset = Sampler(np.swapaxes(np.stack(ims),1,3),actions,K)\n",
    "\n",
    "train_dataset,test_dataset = torch.utils.data.random_split(dataset, [120,120])"
   ]
  },
  {
   "cell_type": "code",
   "execution_count": 8,
   "metadata": {},
   "outputs": [],
   "source": [
    "batch_size = 32\n",
    "train_loader = DataLoader(train_dataset, batch_size=batch_size, shuffle=True)"
   ]
  },
  {
   "cell_type": "code",
   "execution_count": 12,
   "metadata": {},
   "outputs": [],
   "source": [
    "class Flatten(nn.Module):\n",
    "    def forward(self, input):\n",
    "        return input.view(input.size(0), -1)\n",
    "    \n",
    "class SinkhornNet(nn.Module):\n",
    "\n",
    "    def __init__(self, latent_dim=16, image_channels=3, K=6, max_K=7, n_samples=5, noise_factor=1.0, temp=1.0, n_iters=20):\n",
    "        super(SinkhornNet, self).__init__()\n",
    "        \n",
    "        self.encoder = nn.Sequential(\n",
    "            Flatten(),\n",
    "            nn.Linear(27, latent_dim),\n",
    "            nn.ReLU(),\n",
    "            nn.Linear(latent_dim, latent_dim),\n",
    "            nn.ReLU(),\n",
    "            nn.Dropout(p=0.5)\n",
    "        )\n",
    "        \n",
    "        # Sinkhorn params\n",
    "        self.latent_dim = latent_dim\n",
    "        self.K = K\n",
    "        self.max_K = max_K\n",
    "        self.n_samples = n_samples\n",
    "        self.noise_factor = noise_factor\n",
    "        self.temp = temp\n",
    "        self.n_iters = n_iters\n",
    "        \n",
    "        self.criterion = nn.MSELoss()\n",
    "        \n",
    "        self.sinknet = nn.Sequential(nn.Linear(self.latent_dim, self.latent_dim),\n",
    "                                     nn.ReLU(),\n",
    "                                     nn.Linear(self.latent_dim, K*K))\n",
    "        \n",
    "    def permute(self,seq,P):\n",
    "        \n",
    "        return torch.matmul(P,seq)\n",
    "    \n",
    "    def predict_P(self,im):\n",
    "        \n",
    "        latent = self.encoder(im)\n",
    "        log_alpha = self.sinknet(latent)\n",
    "        log_alpha = log_alpha.reshape(-1, self.K, self.K)\n",
    "         \n",
    "        soft_perms_inf, log_alpha_w_noise = self.gumbel_sinkhorn(log_alpha)\n",
    "        \n",
    "        P = self.inv_soft_pers_flattened(soft_perms_inf,self.K)\n",
    "        return P\n",
    "    \n",
    "    def forward(self, seq, im):\n",
    "        \n",
    "        latent = self.encoder(im)\n",
    "        log_alpha = self.sinknet(latent)\n",
    "        log_alpha = log_alpha.reshape(-1, self.K, self.K)\n",
    "         \n",
    "        soft_perms_inf, log_alpha_w_noise = self.gumbel_sinkhorn(log_alpha)\n",
    "        \n",
    "        P = self.inv_soft_pers_flattened(soft_perms_inf,self.K)\n",
    "        \n",
    "        seq_tiled = seq.repeat(self.n_samples, 1)\n",
    "        \n",
    "        ordered  = self.permute(torch.unsqueeze(seq_tiled,dim=-1),P)\n",
    "        \n",
    "        return ordered\n",
    "    \n",
    "    def loss(self, seq, im, seq_gt):\n",
    "        \n",
    "        seq_pred = self.forward(seq_gt,im)\n",
    "        seq_pred = torch.squeeze(seq_pred)\n",
    "        \n",
    "        recon_loss = self.criterion(seq_pred[:,0:self.max_K],seq.repeat(self.n_samples, 1))\n",
    "         \n",
    "        return recon_loss, seq_pred\n",
    "    \n",
    "    def inv_soft_pers_flattened(self,soft_perms_inf,n_numbers):\n",
    "        inv_soft_perms = torch.transpose(soft_perms_inf, 2, 3)\n",
    "        inv_soft_perms = torch.transpose(inv_soft_perms, 0, 1)\n",
    "\n",
    "        inv_soft_perms_flat = inv_soft_perms.view(-1, n_numbers, n_numbers)\n",
    "        return inv_soft_perms_flat\n",
    "    \n",
    "    def sample_gumbel(self, shape, eps=1e-20):\n",
    "        U = torch.rand(shape).float().to(device)\n",
    "        return -torch.log(eps - torch.log(U + eps))\n",
    "    \n",
    "    def gumbel_sinkhorn(self,log_alpha):\n",
    "        \n",
    "        n = log_alpha.size()[1]\n",
    "        log_alpha = log_alpha.view(-1, n, n)\n",
    "        batch_size = log_alpha.size()[0]\n",
    "\n",
    "        log_alpha_w_noise = log_alpha.repeat(self.n_samples, 1, 1)\n",
    "\n",
    "        if self.noise_factor == 0:\n",
    "            noise = 0.0\n",
    "        else:\n",
    "            noise = self.sample_gumbel([self.n_samples*batch_size, n, n])*self.noise_factor\n",
    "\n",
    "        log_alpha_w_noise = log_alpha_w_noise + noise\n",
    "        log_alpha_w_noise = log_alpha_w_noise / self.temp\n",
    "\n",
    "        my_log_alpha_w_noise = log_alpha_w_noise.clone()\n",
    "\n",
    "        sink = self.sinkhorn(my_log_alpha_w_noise)\n",
    "\n",
    "        sink = sink.view(self.n_samples, batch_size, n, n)\n",
    "        sink = torch.transpose(sink, 1, 0)\n",
    "        log_alpha_w_noise = log_alpha_w_noise.view(self.n_samples, batch_size, n, n)\n",
    "        log_alpha_w_noise = torch.transpose(log_alpha_w_noise, 1, 0)\n",
    "\n",
    "        return sink, log_alpha_w_noise\n",
    "    \n",
    "    def sinkhorn(self,log_alpha, n_iters = 20):\n",
    "   \n",
    "        n = log_alpha.size()[1]\n",
    "        log_alpha = log_alpha.view(-1, n, n)\n",
    "\n",
    "        for i in range(n_iters):\n",
    "            log_alpha = log_alpha - (torch.logsumexp(log_alpha, dim=2, keepdim=True)).view(-1, n, 1)\n",
    "            log_alpha = log_alpha - (torch.logsumexp(log_alpha, dim=1, keepdim=True)).view(-1, 1, n)\n",
    "        return torch.exp(log_alpha)\n"
   ]
  },
  {
   "cell_type": "code",
   "execution_count": 15,
   "metadata": {},
   "outputs": [],
   "source": [
    "sn = SinkhornNet(latent_dim=1024, image_channels=3, K=K,max_K=7)\n",
    "sn.to(device)\n",
    "optimizer = torch.optim.Adam(sn.parameters(), lr=3e-4)\n",
    "n_epochs = 500\n",
    "losses = []"
   ]
  },
  {
   "cell_type": "code",
   "execution_count": null,
   "metadata": {},
   "outputs": [
    {
     "data": {
      "image/png": "[encoded data removed]",
      "text/plain": [
       "<Figure size 1080x504 with 5 Axes>"
      ]
     },
     "metadata": {},
     "output_type": "display_data"
    }
   ],
   "source": [
    "plt.figure(figsize=(15,7))\n",
    "\n",
    "for j in range(n_epochs):\n",
    "    \n",
    "    batch_losses = []\n",
    "    for im, seq, seq_order in train_loader:\n",
    "    \n",
    "        loss, seq_pred = sn.loss(seq, im, seq_order)\n",
    "        \n",
    "        batch_losses.append(loss.item())\n",
    "        \n",
    "        loss.backward()\n",
    "        optimizer.step()\n",
    "        optimizer.zero_grad()\n",
    "        \n",
    "    losses.append(np.mean(batch_losses))\n",
    "    \n",
    "    plt.clf()\n",
    "    plt.cla()\n",
    "    plt.subplot(1,3,1)\n",
    "    plt.plot(losses,alpha=0.5)\n",
    "    plt.title('Recon loss')\n",
    "\n",
    "    plt.subplot(2,3,6)\n",
    "    P = sn.predict_P(im)\n",
    "    plt.imshow(P[0,:,:].cpu().detach().numpy())\n",
    "    plt.title('Permutation')\n",
    "    \n",
    "    plt.subplot(2,3,2)\n",
    "    plt.imshow(seq_pred[0,0:7].cpu().detach().numpy().reshape(1,-1))\n",
    "    plt.title('Re-shuffled seq')\n",
    "    \n",
    "    plt.subplot(2,3,5)\n",
    "    plt.imshow(seq[0,:].cpu().detach().numpy().reshape(1,-1))\n",
    "    plt.title('Original seq')\n",
    "    \n",
    "    plt.subplot(2,3,3)\n",
    "    plt.imshow(np.swapaxes(im[0,:,:,:].cpu().detach().numpy(),0,2))\n",
    "    \n",
    "        \n",
    "    display.clear_output(wait=True)\n",
    "    display.display(plt.gcf())\n",
    "    "
   ]
  },
  {
   "cell_type": "code",
   "execution_count": null,
   "metadata": {},
   "outputs": [],
   "source": [
    "sn.eval()\n",
    "sn.noise_factor = 0.0\n",
    "sn.n_samples = 1\n",
    "sn.n_iters = 20"
   ]
  },
  {
   "cell_type": "code",
   "execution_count": 22,
   "metadata": {},
   "outputs": [],
   "source": [
    "test_loader = DataLoader(test_dataset, batch_size=1, shuffle=False)\n",
    "tau = []\n",
    "for im, seq, seq_order in test_loader:\n",
    "\n",
    "    P = sn.predict_P(im).cpu().detach().numpy()[0,:,:]\n",
    "    acts = np.argmax(P,1)[0:7]\n",
    "    kt,_ = kendalltau(acts,seq.cpu().numpy())\n",
    "    tau.append(kt)"
   ]
  },
  {
   "cell_type": "code",
   "execution_count": 26,
   "metadata": {},
   "outputs": [],
   "source": [
    "import seaborn as sns"
   ]
  },
  {
   "cell_type": "code",
   "execution_count": 27,
   "metadata": {},
   "outputs": [
    {
     "data": {
      "image/png": "[encoded data removed]",
      "text/plain": [
       "<Figure size 432x288 with 1 Axes>"
      ]
     },
     "metadata": {
      "needs_background": "light"
     },
     "output_type": "display_data"
    }
   ],
   "source": [
    "sns.distplot(tau)\n",
    "plt.show()"
   ]
  }
 ],
 "metadata": {
  "kernelspec": {
   "display_name": "Python 3",
   "language": "python",
   "name": "python3"
  },
  "language_info": {
   "codemirror_mode": {
    "name": "ipython",
    "version": 3
   },
   "file_extension": ".py",
   "mimetype": "text/x-python",
   "name": "python",
   "nbconvert_exporter": "python",
   "pygments_lexer": "ipython3",
   "version": "3.6.9"
  }
 },
 "nbformat": 4,
 "nbformat_minor": 2
}
