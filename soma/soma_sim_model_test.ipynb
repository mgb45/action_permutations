{
 "cells": [
  {
   "cell_type": "code",
   "execution_count": null,
   "metadata": {},
   "outputs": [],
   "source": [
    "from pyrep import PyRep\n",
    "import numpy as np\n",
    "from matplotlib import pyplot as plt\n",
    "from pyrep.objects.shape import Shape\n",
    "from pyrep.const import PrimitiveShape\n",
    "from pyrep.objects.vision_sensor import VisionSensor\n",
    "from IPython import display"
   ]
  },
  {
   "cell_type": "code",
   "execution_count": null,
   "metadata": {},
   "outputs": [],
   "source": [
    "from matplotlib import cm\n",
    "cols = cm.get_cmap('tab20c', 7)"
   ]
  },
  {
   "cell_type": "code",
   "execution_count": null,
   "metadata": {},
   "outputs": [],
   "source": [
    "f = open(\"soma_cube.txt\", \"r\")\n",
    "text = f.read()\n",
    "\n",
    "split_sols = text.split('solution')\n",
    "solutions = [split_sols[j] for j in range(1,241)]\n",
    "\n",
    "solution_list = []\n",
    "pic_list = []\n",
    "for s in solutions:\n",
    "\n",
    "    parts = s.split('\\n')[1:8]\n",
    "    solution_list.append(parts)"
   ]
  },
  {
   "cell_type": "code",
   "execution_count": null,
   "metadata": {},
   "outputs": [],
   "source": [
    "class BlockSim:\n",
    "    \n",
    "    def __init__(self,move_tolerance=1e-3):\n",
    "        \n",
    "        self.pr = PyRep()\n",
    "        self.pr.launch(headless=False)\n",
    "        \n",
    "        self.pr.start()\n",
    "        \n",
    "        self.move_tolerance = move_tolerance\n",
    "        \n",
    "        self.blocks = ['T','p','V','L','Z','b','a']\n",
    "    \n",
    "    def reset(self):\n",
    "        \n",
    "        self.pr.stop()\n",
    "        \n",
    "    def setup(self,actions):\n",
    "\n",
    "        self.pr.start()\n",
    "\n",
    "        cam0 = VisionSensor.create([64,64],position=[0.1,0.1,0.5],orientation=[np.pi,0,0])\n",
    "        cam1 = VisionSensor.create([64,64],position=[0.5,0.1,0.1],orientation=[0,-np.pi/2,-np.pi/2])\n",
    "        cam2 = VisionSensor.create([64,64],position=[0.1,0.5,0.1],orientation=[np.pi/2,0,0])\n",
    "        cam3 = VisionSensor.create([64,64],position=[0.1,-0.3,0.1],orientation=[-np.pi/2,0,-np.pi])\n",
    "\n",
    "        # Make cube for \n",
    "        self.obj_list = []\n",
    "        self.block_order = []\n",
    "        for i,a in enumerate(actions):\n",
    "            col_idx = self.blocks.index(a[-1])\n",
    "            self.block_order.append(a[-1])\n",
    "            color = (cols.colors[col_idx][0:3]).tolist()\n",
    "\n",
    "            pose = np.array(' '.join(a[0:-1].split(',')).split()).reshape(-1,3).astype(int)*0.05 + 0.05\n",
    "            block_list = []\n",
    "            for p in pose:\n",
    "                obj = Shape.create(type=PrimitiveShape.CUBOID, \n",
    "                              color=color, size=[0.05, 0.05, 0.05],\n",
    "                              position=p.tolist())\n",
    "                obj.set_color(color)\n",
    "                block_list.append(obj)\n",
    "            self.obj_list.append(block_list)\n",
    "\n",
    "        for j in range(10):\n",
    "            self.pr.step()\n",
    "            \n",
    "        im0 = cam0.capture_rgb()\n",
    "        im1 = cam1.capture_rgb()\n",
    "        im2 = cam2.capture_rgb()\n",
    "        im3 = cam3.capture_rgb()\n",
    "\n",
    "        self.pr.step()\n",
    "        \n",
    "        return (im0,im1,im2,im3)\n",
    "\n",
    "    def remove(self,piece):\n",
    "        try:\n",
    "            idx = self.block_order.index(piece)\n",
    "            parts = self.obj_list[idx]\n",
    "            for p in parts:\n",
    "                p.remove()\n",
    "        except:\n",
    "            print('No such piece. Not Removed.')\n",
    "        for j in range(2):\n",
    "            self.pr.step()\n",
    "        \n",
    "        return self.check_moving()\n",
    "            \n",
    "    def check_moving(self):\n",
    "        vels = []\n",
    "        for p in self.obj_list:\n",
    "            for block in p:\n",
    "                try:\n",
    "                    t,w = block.get_velocity()\n",
    "                    vels.append(np.sum(t**2)+np.sum(w**2))\n",
    "                            \n",
    "                except:\n",
    "                    vels.append(0)\n",
    "        if np.sum(np.array(vels) > self.move_tolerance) > 1:\n",
    "            self.collapsed = True\n",
    "            return True \n",
    "        else:\n",
    "            return False"
   ]
  },
  {
   "cell_type": "code",
   "execution_count": null,
   "metadata": {},
   "outputs": [],
   "source": [
    "sim = BlockSim()"
   ]
  },
  {
   "cell_type": "code",
   "execution_count": null,
   "metadata": {
    "scrolled": true
   },
   "outputs": [],
   "source": [
    "idx = 0\n",
    "puzzle = solution_list[idx]\n",
    "c = sim.setup(puzzle)\n",
    "\n",
    "plt.clf()\n",
    "plt.subplot(2,2,1)\n",
    "plt.imshow(c[0])\n",
    "plt.axis('off')\n",
    "plt.subplot(2,2,2)\n",
    "plt.imshow(c[1])\n",
    "plt.axis('off')\n",
    "plt.subplot(2,2,3)\n",
    "plt.imshow(c[2])\n",
    "plt.axis('off')\n",
    "plt.subplot(2,2,4)\n",
    "plt.imshow(c[3])\n",
    "plt.axis('off')\n",
    "plt.show()"
   ]
  },
  {
   "cell_type": "code",
   "execution_count": null,
   "metadata": {},
   "outputs": [],
   "source": [
    "key = {'Orange':'V','Green':'L','Black':'b','Purple':'Z','White':'a','LBlue':'p','Blue':'T'}"
   ]
  },
  {
   "cell_type": "code",
   "execution_count": null,
   "metadata": {},
   "outputs": [],
   "source": [
    "sim.reset()"
   ]
  },
  {
   "cell_type": "code",
   "execution_count": null,
   "metadata": {
    "scrolled": false
   },
   "outputs": [],
   "source": [
    "extraction_orders = np.load('pred_order.npy')"
   ]
  },
  {
   "cell_type": "code",
   "execution_count": null,
   "metadata": {
    "scrolled": true
   },
   "outputs": [],
   "source": [
    "# Sanity check on manual labels\n",
    "\n",
    "counter = np.zeros(240)\n",
    "for i,puzzle in enumerate(solution_list):\n",
    "    c = sim.setup(puzzle)\n",
    "    \n",
    "    removal_list = extraction_orders[i]\n",
    "    \n",
    "    collapsed = False\n",
    "    for part in removal_list:\n",
    "        collapsed = sim.remove(key[part])\n",
    "        if collapsed:\n",
    "            print('%d Collapsed!'%i)\n",
    "            counter[i]=counter[i]+1\n",
    "            sim.reset()\n",
    "            break\n",
    "        else:\n",
    "            print('\\r %d ok'%i,end='')\n",
    "    sim.reset()\n",
    "    \n",
    "    \n"
   ]
  },
  {
   "cell_type": "code",
   "execution_count": null,
   "metadata": {},
   "outputs": [],
   "source": [
    "sim.pr.shutdown()"
   ]
  },
  {
   "cell_type": "code",
   "execution_count": null,
   "metadata": {},
   "outputs": [],
   "source": []
  }
 ],
 "metadata": {
  "kernelspec": {
   "display_name": "Python 3",
   "language": "python",
   "name": "python3"
  },
  "language_info": {
   "codemirror_mode": {
    "name": "ipython",
    "version": 3
   },
   "file_extension": ".py",
   "mimetype": "text/x-python",
   "name": "python",
   "nbconvert_exporter": "python",
   "pygments_lexer": "ipython3",
   "version": "3.6.9"
  }
 },
 "nbformat": 4,
 "nbformat_minor": 2
}
