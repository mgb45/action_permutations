{
 "cells": [
  {
   "cell_type": "code",
   "execution_count": 1,
   "metadata": {},
   "outputs": [],
   "source": [
    "from pyrep import PyRep\n",
    "import numpy as np\n",
    "from matplotlib import pyplot as plt\n",
    "from pyrep.objects.shape import Shape\n",
    "from pyrep.const import PrimitiveShape\n",
    "from pyrep.objects.vision_sensor import VisionSensor\n",
    "from IPython import display"
   ]
  },
  {
   "cell_type": "code",
   "execution_count": 2,
   "metadata": {},
   "outputs": [],
   "source": [
    "from matplotlib import cm\n",
    "cols = cm.get_cmap('tab20c', 7)"
   ]
  },
  {
   "cell_type": "code",
   "execution_count": 3,
   "metadata": {},
   "outputs": [],
   "source": [
    "f = open(\"soma_cube.txt\", \"r\")\n",
    "text = f.read()\n",
    "\n",
    "split_sols = text.split('solution')\n",
    "solutions = [split_sols[j] for j in range(1,241)]\n",
    "\n",
    "solution_list = []\n",
    "pic_list = []\n",
    "for s in solutions:\n",
    "\n",
    "    parts = s.split('\\n')[1:8]\n",
    "    solution_list.append(parts)"
   ]
  },
  {
   "cell_type": "code",
   "execution_count": 4,
   "metadata": {},
   "outputs": [],
   "source": [
    "class BlockSim:\n",
    "    \n",
    "    def __init__(self,move_tolerance=1e-3):\n",
    "        \n",
    "        self.pr = PyRep()\n",
    "        self.pr.launch(headless=False)\n",
    "        \n",
    "        self.pr.start()\n",
    "        \n",
    "        self.move_tolerance = move_tolerance\n",
    "        \n",
    "        self.blocks = ['T','p','V','L','Z','b','a']\n",
    "    \n",
    "    def reset(self):\n",
    "        \n",
    "        self.pr.stop()\n",
    "        \n",
    "    def setup(self,actions):\n",
    "\n",
    "        self.pr.start()\n",
    "\n",
    "        cam0 = VisionSensor.create([64,64],position=[0.1,0.1,0.5],orientation=[np.pi,0,0])\n",
    "        cam1 = VisionSensor.create([64,64],position=[0.5,0.1,0.1],orientation=[0,-np.pi/2,-np.pi/2])\n",
    "        cam2 = VisionSensor.create([64,64],position=[0.1,0.5,0.1],orientation=[np.pi/2,0,0])\n",
    "        cam3 = VisionSensor.create([64,64],position=[0.1,-0.3,0.1],orientation=[-np.pi/2,0,-np.pi])\n",
    "\n",
    "        # Make cube for \n",
    "        self.obj_list = []\n",
    "        self.block_order = []\n",
    "        for i,a in enumerate(actions):\n",
    "            col_idx = self.blocks.index(a[-1])\n",
    "            self.block_order.append(a[-1])\n",
    "            color = (cols.colors[col_idx][0:3]).tolist()\n",
    "\n",
    "            pose = np.array(' '.join(a[0:-1].split(',')).split()).reshape(-1,3).astype(int)*0.05 + 0.05\n",
    "            block_list = []\n",
    "            for p in pose:\n",
    "                obj = Shape.create(type=PrimitiveShape.CUBOID, \n",
    "                              color=color, size=[0.05, 0.05, 0.05],\n",
    "                              position=p.tolist())\n",
    "                obj.set_color(color)\n",
    "                block_list.append(obj)\n",
    "            self.obj_list.append(block_list)\n",
    "\n",
    "        for j in range(10):\n",
    "            self.pr.step()\n",
    "            \n",
    "        im0 = cam0.capture_rgb()\n",
    "        im1 = cam1.capture_rgb()\n",
    "        im2 = cam2.capture_rgb()\n",
    "        im3 = cam3.capture_rgb()\n",
    "\n",
    "        self.pr.step()\n",
    "        \n",
    "        return (im0,im1,im2,im3)\n",
    "\n",
    "    def remove(self,piece):\n",
    "        try:\n",
    "            idx = self.block_order.index(piece)\n",
    "            parts = self.obj_list[idx]\n",
    "            for p in parts:\n",
    "                p.remove()\n",
    "        except:\n",
    "            print('No such piece. Not Removed.')\n",
    "        for j in range(2):\n",
    "            self.pr.step()\n",
    "        \n",
    "        return self.check_moving()\n",
    "            \n",
    "    def check_moving(self):\n",
    "        vels = []\n",
    "        for p in self.obj_list:\n",
    "            for block in p:\n",
    "                try:\n",
    "                    t,w = block.get_velocity()\n",
    "                    vels.append(np.sum(t**2)+np.sum(w**2))\n",
    "                            \n",
    "                except:\n",
    "                    vels.append(0)\n",
    "        if np.sum(np.array(vels) > self.move_tolerance) > 1:\n",
    "            self.collapsed = True\n",
    "            return True \n",
    "        else:\n",
    "            return False"
   ]
  },
  {
   "cell_type": "code",
   "execution_count": 5,
   "metadata": {},
   "outputs": [],
   "source": [
    "sim = BlockSim()"
   ]
  },
  {
   "cell_type": "code",
   "execution_count": 6,
   "metadata": {
    "scrolled": true
   },
   "outputs": [
    {
     "data": {
      "image/png": "[encoded data removed]",
      "text/plain": [
       "<matplotlib.figure.Figure at 0x7fa87001c940>"
      ]
     },
     "metadata": {
      "needs_background": "light"
     },
     "output_type": "display_data"
    }
   ],
   "source": [
    "idx = 0\n",
    "puzzle = solution_list[idx]\n",
    "c = sim.setup(puzzle)\n",
    "\n",
    "plt.clf()\n",
    "plt.subplot(2,2,1)\n",
    "plt.imshow(c[0])\n",
    "plt.axis('off')\n",
    "plt.subplot(2,2,2)\n",
    "plt.imshow(c[1])\n",
    "plt.axis('off')\n",
    "plt.subplot(2,2,3)\n",
    "plt.imshow(c[2])\n",
    "plt.axis('off')\n",
    "plt.subplot(2,2,4)\n",
    "plt.imshow(c[3])\n",
    "plt.axis('off')\n",
    "plt.show()"
   ]
  },
  {
   "cell_type": "code",
   "execution_count": 7,
   "metadata": {},
   "outputs": [],
   "source": [
    "key = {'Orange':'V','Green':'L','Black':'b','Purple':'Z','White':'a','LBlue':'p','Blue':'T'}"
   ]
  },
  {
   "cell_type": "code",
   "execution_count": 8,
   "metadata": {},
   "outputs": [],
   "source": [
    "sim.reset()\n",
    "sim.pr.shutdown()"
   ]
  },
  {
   "cell_type": "code",
   "execution_count": 9,
   "metadata": {
    "scrolled": false
   },
   "outputs": [
    {
     "name": "stdout",
     "output_type": "stream",
     "text": [
      "Same indices: True\n"
     ]
    }
   ],
   "source": [
    "extraction_orders_sink = np.load('pred_order.npy')\n",
    "extraction_orders_tcn = np.load('pred_order_tcn.npy')\n",
    "test_indices = np.load('test_indices.npy').astype(int)\n",
    "test_indices_tcn = np.load('test_indices_tcn.npy').astype(int)\n",
    "\n",
    "# Sanity check\n",
    "print('Same indices:', np.array_equal(test_indices,test_indices_tcn))"
   ]
  },
  {
   "cell_type": "code",
   "execution_count": 10,
   "metadata": {
    "scrolled": true
   },
   "outputs": [
    {
     "name": "stdout",
     "output_type": "stream",
     "text": [
      " 5 5 Collapsed!\n",
      " 7 7 Collapsed!\n",
      " 10 10 Collapsed!\n",
      " 13 14 Collapsed!\n",
      " 16 16 Collapsed!\n",
      " 17 18 Collapsed!\n",
      " 20 20 Collapsed!\n",
      " 21 21 Collapsed!\n",
      " 22 23 Collapsed!\n",
      " 25 26 Collapsed!\n",
      " 27 27 Collapsed!\n",
      " 33 34 Collapsed!\n",
      " 36 36 Collapsed!\n",
      " 41 41 Collapsed!\n",
      " 45 46 Collapsed!\n",
      "47 Collapsed!\n",
      " 48 48 Collapsed!\n",
      " 49 49 Collapsed!\n",
      " 52 52 Collapsed!\n",
      " 53 53 Collapsed!\n",
      " 56 56 Collapsed!\n",
      "57 Collapsed!\n",
      " 59 59 Collapsed!\n"
     ]
    }
   ],
   "source": [
    "# Count failures Sink\n",
    "counter_sink = np.zeros(test_indices.shape[0])\n",
    "for i,idx in enumerate(test_indices.ravel()):\n",
    "    puzzle = solution_list[idx]\n",
    "    sim = BlockSim()\n",
    "    c = sim.setup(puzzle)\n",
    "    \n",
    "    removal_list = extraction_orders_sink[i]\n",
    "    \n",
    "    collapsed = False\n",
    "    for part in removal_list:\n",
    "        collapsed = sim.remove(key[part])\n",
    "        if collapsed:\n",
    "            print('%d Collapsed!'%i)\n",
    "            counter_sink[i]=counter_sink[i]+1\n",
    "            sim.reset()\n",
    "            break\n",
    "        else:\n",
    "            print('\\r %d '%i,end='')\n",
    "    sim.reset()\n",
    "    sim.pr.shutdown()\n",
    "    "
   ]
  },
  {
   "cell_type": "code",
   "execution_count": 11,
   "metadata": {},
   "outputs": [
    {
     "name": "stdout",
     "output_type": "stream",
     "text": [
      "0.38333333333333336\n"
     ]
    }
   ],
   "source": [
    "print(np.sum(counter_sink)/len(counter_sink))"
   ]
  },
  {
   "cell_type": "code",
   "execution_count": 12,
   "metadata": {},
   "outputs": [
    {
     "name": "stdout",
     "output_type": "stream",
     "text": [
      " 0 0 Collapsed!\n",
      " 1 1 Collapsed!\n",
      " 4 4 Collapsed!\n",
      " 6 6 Collapsed!\n",
      " 7 7 Collapsed!\n",
      " 8 8 Collapsed!\n",
      " 10 10 Collapsed!\n",
      " 11 11 Collapsed!\n",
      " 13 13 Collapsed!\n",
      "14 Collapsed!\n",
      " 16 16 Collapsed!\n",
      " 17 18 Collapsed!\n",
      " 19 19 Collapsed!\n",
      " 20 20 Collapsed!\n",
      " 22 23 Collapsed!\n",
      " 24 24 Collapsed!\n",
      " 26 26 Collapsed!\n",
      " 27 27 Collapsed!\n",
      " 30 30 Collapsed!\n",
      " 31 31 Collapsed!\n",
      " 33 34 Collapsed!\n",
      " 38 38 Collapsed!\n",
      " 39 39 Collapsed!\n",
      " 41 41 Collapsed!\n",
      " 42 42 Collapsed!\n",
      " 44 44 Collapsed!\n",
      " 45 46 Collapsed!\n",
      "47 Collapsed!\n",
      "48 Collapsed!\n",
      " 50 51 Collapsed!\n",
      " 52 52 Collapsed!\n",
      "53 Collapsed!\n",
      " 56 56 Collapsed!\n",
      "57 Collapsed!\n",
      " 59 "
     ]
    }
   ],
   "source": [
    "# Count failures TCN\n",
    "counter_tcn = np.zeros(test_indices.shape[0])\n",
    "for i,idx in enumerate(test_indices.ravel()):\n",
    "    puzzle = solution_list[idx]\n",
    "    sim = BlockSim()\n",
    "    c = sim.setup(puzzle)\n",
    "    \n",
    "    removal_list = extraction_orders_tcn[i]\n",
    "    \n",
    "    collapsed = False\n",
    "    for part in removal_list:\n",
    "        collapsed = sim.remove(key[part])\n",
    "        if collapsed:\n",
    "            print('%d Collapsed!'%i)\n",
    "            counter_tcn[i]=counter_tcn[i]+1\n",
    "            sim.reset()\n",
    "            break\n",
    "        else:\n",
    "            print('\\r %d '%i,end='')\n",
    "    sim.reset()\n",
    "    sim.pr.shutdown()"
   ]
  },
  {
   "cell_type": "code",
   "execution_count": 13,
   "metadata": {},
   "outputs": [
    {
     "name": "stdout",
     "output_type": "stream",
     "text": [
      "0.5666666666666667\n"
     ]
    }
   ],
   "source": [
    "print(np.sum(counter_tcn)/len(counter_tcn))"
   ]
  },
  {
   "cell_type": "code",
   "execution_count": 14,
   "metadata": {},
   "outputs": [],
   "source": [
    "def remove(sim,removal_list):\n",
    "    \n",
    "    collapsed = False\n",
    "    count = 0\n",
    "    for part in removal_list:\n",
    "        collapsed = sim.remove(key[part])\n",
    "        if collapsed:\n",
    "            return collapsed, count\n",
    "        else:\n",
    "            count+=1\n",
    "    return collapsed,count"
   ]
  },
  {
   "cell_type": "code",
   "execution_count": 15,
   "metadata": {},
   "outputs": [],
   "source": [
    "def ga(sim,x,puzzle):\n",
    "    \n",
    "    best_count = 0\n",
    "    iters = 0\n",
    "    seq = x.copy()\n",
    "    \n",
    "    while True:\n",
    "        c = sim.setup(puzzle)\n",
    "\n",
    "        collapsed,count = remove(sim,seq)\n",
    "\n",
    "        \n",
    "        if count >= best_count:\n",
    "            x = seq.copy()\n",
    "            best_count = count\n",
    "        \n",
    "        if not collapsed:\n",
    "            sim.reset()\n",
    "            return x,iters \n",
    "        \n",
    "        seq = x.copy()\n",
    "        # randomly swap sequence\n",
    "        bin_1 = best_count\n",
    "        bin_2 = np.random.randint(count,7)\n",
    "\n",
    "        temp = seq[bin_1]\n",
    "\n",
    "        seq[bin_1] = seq[bin_2]\n",
    "        seq[bin_2] = temp\n",
    "\n",
    "        iters = iters+1\n",
    "        sim.reset()"
   ]
  },
  {
   "cell_type": "code",
   "execution_count": 16,
   "metadata": {
    "scrolled": true
   },
   "outputs": [
    {
     "name": "stdout",
     "output_type": "stream",
     "text": [
      " 60"
     ]
    }
   ],
   "source": [
    "# Genetic algorithm solution - random initialisation\n",
    "iter_counts = []\n",
    "for idx in test_indices.ravel():\n",
    "    sim = BlockSim()\n",
    "    puzzle = solution_list[idx]\n",
    "    init = np.array([k for k in key.keys()])\n",
    "    np.random.shuffle(init)\n",
    "    seq,iters = ga(sim,init,puzzle)\n",
    "    iter_counts.append(iters)\n",
    "    print('\\r',len(iter_counts),end='')\n",
    "    sim.pr.shutdown()"
   ]
  },
  {
   "cell_type": "code",
   "execution_count": 17,
   "metadata": {},
   "outputs": [
    {
     "name": "stdout",
     "output_type": "stream",
     "text": [
      " 60"
     ]
    }
   ],
   "source": [
    "# Genetic algorithm solution - sink initialisation\n",
    "iter_counts_sink = []\n",
    "for i,idx in enumerate(test_indices.ravel()):\n",
    "    sim = BlockSim()\n",
    "    puzzle = solution_list[idx]\n",
    "    init = extraction_orders_sink[i]\n",
    "    seq,iters = ga(sim,init,puzzle)\n",
    "    iter_counts_sink.append(iters)\n",
    "    print('\\r',len(iter_counts_sink),end='')\n",
    "    sim.pr.shutdown()"
   ]
  },
  {
   "cell_type": "code",
   "execution_count": 18,
   "metadata": {},
   "outputs": [
    {
     "name": "stdout",
     "output_type": "stream",
     "text": [
      " 60"
     ]
    }
   ],
   "source": [
    "# Genetic algorithm solution - tcn initialisation\n",
    "iter_counts_tcn = []\n",
    "for i,idx in enumerate(test_indices.ravel()):\n",
    "    sim = BlockSim()\n",
    "    puzzle = solution_list[idx]\n",
    "    init = extraction_orders_tcn[i]\n",
    "    seq,iters = ga(sim,init,puzzle)\n",
    "    iter_counts_tcn.append(iters)\n",
    "    print('\\r',len(iter_counts_tcn),end='')\n",
    "    sim.pr.shutdown()"
   ]
  },
  {
   "cell_type": "code",
   "execution_count": 19,
   "metadata": {},
   "outputs": [
    {
     "name": "stdout",
     "output_type": "stream",
     "text": [
      "Average iterations, rand: 6.05 +- 3.01\n",
      "Average iterations, tcn : 1.97 +- 3.01\n",
      "Average iterations, sink: 1.60 +- 3.55\n"
     ]
    }
   ],
   "source": [
    "print('Average iterations, rand: %2.2f +- %2.2f'%(np.mean(iter_counts),np.std(iter_counts_tcn)))\n",
    "print('Average iterations, tcn : %2.2f +- %2.2f'%(np.mean(iter_counts_tcn),np.std(iter_counts_tcn)))\n",
    "print('Average iterations, sink: %2.2f +- %2.2f'%(np.mean(iter_counts_sink),np.std(iter_counts_sink)))"
   ]
  },
  {
   "cell_type": "code",
   "execution_count": 20,
   "metadata": {},
   "outputs": [
    {
     "name": "stdout",
     "output_type": "stream",
     "text": [
      "Average collapses, tcn: 0.57\n",
      "Average collapses, sink: 0.38\n"
     ]
    }
   ],
   "source": [
    "print('Average collapses, tcn: %2.2f'%np.mean(counter_tcn))\n",
    "print('Average collapses, sink: %2.2f'%np.mean(counter_sink))"
   ]
  },
  {
   "cell_type": "code",
   "execution_count": 21,
   "metadata": {},
   "outputs": [],
   "source": [
    "import matplotlib\n",
    "import seaborn as sns\n",
    "matplotlib.rcParams['pdf.fonttype'] = 42\n",
    "matplotlib.rcParams['ps.fonttype'] = 42\n",
    "\n",
    "plt.style.use('seaborn')\n",
    "\n",
    "nice_fonts = {\n",
    "        # Use LaTeX to write all text\n",
    "        \"text.usetex\": True,\n",
    "        \"font.family\": \"serif\",\n",
    "        # Use 10pt font in plots, to match 10pt font in document\n",
    "        \"axes.labelsize\": 16,\n",
    "        \"font.size\": 16,\n",
    "        # Make the legend/label fonts a little smaller\n",
    "        \"legend.fontsize\": 14,\n",
    "        \"xtick.labelsize\": 14,\n",
    "        \"ytick.labelsize\": 14,\n",
    "}\n",
    "\n",
    "matplotlib.rcParams.update(nice_fonts)"
   ]
  },
  {
   "cell_type": "code",
   "execution_count": 82,
   "metadata": {
    "scrolled": false
   },
   "outputs": [
    {
     "data": {
      "image/png": "[encoded data removed]",
      "text/plain": [
       "<matplotlib.figure.Figure at 0x7fa84252e128>"
      ]
     },
     "metadata": {},
     "output_type": "display_data"
    }
   ],
   "source": [
    "import itertools\n",
    "palette = itertools.cycle(sns.color_palette())\n",
    "\n",
    "plt.subplot(1,3,1)\n",
    "sns.distplot(iter_counts,label='Random initialisation',bins=np.linspace(0,25,20),kde=False,color=next(palette))\n",
    "plt.xlim(0,25)\n",
    "plt.ylim(0,60)\n",
    "plt.legend()\n",
    "plt.ylabel('Frequency')\n",
    "plt.xlabel('Iterations')\n",
    "plt.subplot(1,3,2)\n",
    "sns.distplot(iter_counts_tcn,label='BC+TCN initialisation',bins=np.linspace(0,25,20),kde=False,color=next(palette))\n",
    "plt.xlim(0,25)\n",
    "plt.ylim(0,60)\n",
    "plt.legend()\n",
    "plt.ylabel('Frequency')\n",
    "plt.xlabel('Iterations')\n",
    "plt.subplot(1,3,3)\n",
    "sns.distplot(iter_counts_sink,label='BC+Sink initialisation',bins=np.linspace(0,25,20),kde=False,color=next(palette))\n",
    "plt.xlim(0,25)\n",
    "plt.ylim(0,60)\n",
    "plt.ylabel('Frequency')\n",
    "plt.xlabel('Iterations')\n",
    "plt.legend(loc=0)\n",
    "plt.tight_layout()\n",
    "plt.savefig('ga_speedup.pdf')\n",
    "plt.show()\n"
   ]
  },
  {
   "cell_type": "code",
   "execution_count": 79,
   "metadata": {},
   "outputs": [
    {
     "data": {
      "image/png": "[encoded data removed]",
      "text/plain": [
       "<matplotlib.figure.Figure at 0x7fa7498fbdd8>"
      ]
     },
     "metadata": {},
     "output_type": "display_data"
    }
   ],
   "source": [
    "import pandas as pd\n",
    "df1 = pd.DataFrame(iter_counts).assign(Initialisation='Random')\n",
    "df2 = pd.DataFrame(iter_counts_tcn).assign(Initialisation='BC+TCN+Hung')\n",
    "df3 = pd.DataFrame(iter_counts_sink).assign(Initialisation='BC+Sink')\n",
    "\n",
    "cdf = pd.concat([df1, df2, df3]) \n",
    "\n",
    "mdf = pd.melt(cdf, id_vars=['Initialisation'])  \n",
    "mdf.rename(columns={'value':'Iterations'},inplace=True)\n",
    "\n",
    "ax = sns.stripplot(x='Initialisation', y=\"Iterations\", data=mdf,linewidth=1)\n",
    "#ax = sns.boxplot(x='Initialisation', y=\"Iterations\", hue=\"Initialisation\", data=mdf)  # RUN PLOT   \n",
    "plt.show()"
   ]
  }
 ],
 "metadata": {
  "kernelspec": {
   "display_name": "Python 3",
   "language": "python",
   "name": "python3"
  },
  "language_info": {
   "codemirror_mode": {
    "name": "ipython",
    "version": 3
   },
   "file_extension": ".py",
   "mimetype": "text/x-python",
   "name": "python",
   "nbconvert_exporter": "python",
   "pygments_lexer": "ipython3",
   "version": "3.6.9"
  }
 },
 "nbformat": 4,
 "nbformat_minor": 2
}
