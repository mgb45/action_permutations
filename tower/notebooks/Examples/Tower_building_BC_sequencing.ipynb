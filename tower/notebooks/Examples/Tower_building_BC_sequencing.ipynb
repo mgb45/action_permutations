{
 "cells": [
  {
   "cell_type": "code",
   "execution_count": 1,
   "metadata": {},
   "outputs": [],
   "source": [
    "from scipy.stats import kendalltau\n",
    "\n",
    "from scipy.optimize import linear_sum_assignment"
   ]
  },
  {
   "cell_type": "code",
   "execution_count": 2,
   "metadata": {},
   "outputs": [],
   "source": [
    "import numpy as np\n",
    "from matplotlib import pyplot as plt\n",
    "\n",
    "from mpl_toolkits.mplot3d import Axes3D\n",
    "from IPython import display\n",
    "\n",
    "from scipy.spatial.transform import Rotation as R\n",
    "\n",
    "import math\n",
    "from copy import copy\n",
    "import glob\n",
    "import random"
   ]
  },
  {
   "cell_type": "code",
   "execution_count": 3,
   "metadata": {},
   "outputs": [],
   "source": [
    "flist = sorted(glob.glob('../../demos/perms/order*'))\n",
    "random.shuffle(flist)"
   ]
  },
  {
   "cell_type": "code",
   "execution_count": 4,
   "metadata": {},
   "outputs": [],
   "source": [
    "# Load 300 examples\n",
    "obj_list = []\n",
    "im_list = []\n",
    "for i,f in enumerate(flist[0:300]):\n",
    "    run = int(f.split('_')[1][:-4])\n",
    "\n",
    "    im = np.load('../../demos/perms/ims_%04d.npy'%run)\n",
    "    obj_ids = np.load('../../demos/perms/order_%04d.npy'%run)\n",
    "    \n",
    "    obj_list.append(obj_ids)\n",
    "    im_list.append(im)"
   ]
  },
  {
   "cell_type": "code",
   "execution_count": 5,
   "metadata": {},
   "outputs": [],
   "source": [
    "import torch\n",
    "import torch.nn as nn\n",
    "from torch.utils.data import Dataset\n",
    "from torch.utils.data import DataLoader\n",
    "device = torch.device(\"cuda:1\")"
   ]
  },
  {
   "cell_type": "code",
   "execution_count": 6,
   "metadata": {},
   "outputs": [],
   "source": [
    "# Set up pytorch dataloader\n",
    "class Sampler(Dataset):\n",
    "    \n",
    "    def __init__(self, ims, actions):\n",
    "        \n",
    "        self.ims = torch.FloatTensor(ims.astype('float')).to(device)\n",
    "        self.actions = torch.LongTensor(actions.astype('int')).to(device)\n",
    "        \n",
    "        \n",
    "    def __len__(self):\n",
    "        \n",
    "        return self.ims.shape[0]\n",
    "    \n",
    "    def __getitem__(self, index):\n",
    "        \n",
    "        im = self.ims[index,:,:,:]\n",
    "        actions = self.actions[index,:]\n",
    "        return im, actions\n"
   ]
  },
  {
   "cell_type": "code",
   "execution_count": 7,
   "metadata": {},
   "outputs": [
    {
     "ename": "RuntimeError",
     "evalue": "CUDA error: out of memory",
     "output_type": "error",
     "traceback": [
      "\u001b[0;31m---------------------------------------------------------------------------\u001b[0m",
      "\u001b[0;31mRuntimeError\u001b[0m                              Traceback (most recent call last)",
      "\u001b[0;32m<ipython-input-7-fac08f04a816>\u001b[0m in \u001b[0;36m<module>\u001b[0;34m\u001b[0m\n\u001b[0;32m----> 1\u001b[0;31m \u001b[0mdataset\u001b[0m \u001b[0;34m=\u001b[0m \u001b[0mSampler\u001b[0m\u001b[0;34m(\u001b[0m\u001b[0mnp\u001b[0m\u001b[0;34m.\u001b[0m\u001b[0mswapaxes\u001b[0m\u001b[0;34m(\u001b[0m\u001b[0mnp\u001b[0m\u001b[0;34m.\u001b[0m\u001b[0mstack\u001b[0m\u001b[0;34m(\u001b[0m\u001b[0mim_list\u001b[0m\u001b[0;34m)\u001b[0m\u001b[0;34m,\u001b[0m\u001b[0;36m1\u001b[0m\u001b[0;34m,\u001b[0m\u001b[0;36m3\u001b[0m\u001b[0;34m)\u001b[0m\u001b[0;34m,\u001b[0m\u001b[0mnp\u001b[0m\u001b[0;34m.\u001b[0m\u001b[0mstack\u001b[0m\u001b[0;34m(\u001b[0m\u001b[0mobj_list\u001b[0m\u001b[0;34m)\u001b[0m\u001b[0;34m)\u001b[0m\u001b[0;34m\u001b[0m\u001b[0;34m\u001b[0m\u001b[0m\n\u001b[0m\u001b[1;32m      2\u001b[0m \u001b[0;34m\u001b[0m\u001b[0m\n\u001b[1;32m      3\u001b[0m \u001b[0mtrain_dataset\u001b[0m\u001b[0;34m,\u001b[0m\u001b[0mtest_dataset\u001b[0m \u001b[0;34m=\u001b[0m \u001b[0mtorch\u001b[0m\u001b[0;34m.\u001b[0m\u001b[0mutils\u001b[0m\u001b[0;34m.\u001b[0m\u001b[0mdata\u001b[0m\u001b[0;34m.\u001b[0m\u001b[0mrandom_split\u001b[0m\u001b[0;34m(\u001b[0m\u001b[0mdataset\u001b[0m\u001b[0;34m,\u001b[0m \u001b[0;34m[\u001b[0m\u001b[0;36m100\u001b[0m\u001b[0;34m,\u001b[0m\u001b[0mlen\u001b[0m\u001b[0;34m(\u001b[0m\u001b[0mim_list\u001b[0m\u001b[0;34m)\u001b[0m\u001b[0;34m-\u001b[0m\u001b[0;36m100\u001b[0m\u001b[0;34m]\u001b[0m\u001b[0;34m)\u001b[0m\u001b[0;34m\u001b[0m\u001b[0;34m\u001b[0m\u001b[0m\n",
      "\u001b[0;32m<ipython-input-6-d29287515b82>\u001b[0m in \u001b[0;36m__init__\u001b[0;34m(self, ims, actions)\u001b[0m\n\u001b[1;32m      4\u001b[0m     \u001b[0;32mdef\u001b[0m \u001b[0m__init__\u001b[0m\u001b[0;34m(\u001b[0m\u001b[0mself\u001b[0m\u001b[0;34m,\u001b[0m \u001b[0mims\u001b[0m\u001b[0;34m,\u001b[0m \u001b[0mactions\u001b[0m\u001b[0;34m)\u001b[0m\u001b[0;34m:\u001b[0m\u001b[0;34m\u001b[0m\u001b[0;34m\u001b[0m\u001b[0m\n\u001b[1;32m      5\u001b[0m \u001b[0;34m\u001b[0m\u001b[0m\n\u001b[0;32m----> 6\u001b[0;31m         \u001b[0mself\u001b[0m\u001b[0;34m.\u001b[0m\u001b[0mims\u001b[0m \u001b[0;34m=\u001b[0m \u001b[0mtorch\u001b[0m\u001b[0;34m.\u001b[0m\u001b[0mFloatTensor\u001b[0m\u001b[0;34m(\u001b[0m\u001b[0mims\u001b[0m\u001b[0;34m.\u001b[0m\u001b[0mastype\u001b[0m\u001b[0;34m(\u001b[0m\u001b[0;34m'float'\u001b[0m\u001b[0;34m)\u001b[0m\u001b[0;34m)\u001b[0m\u001b[0;34m.\u001b[0m\u001b[0mto\u001b[0m\u001b[0;34m(\u001b[0m\u001b[0mdevice\u001b[0m\u001b[0;34m)\u001b[0m\u001b[0;34m\u001b[0m\u001b[0;34m\u001b[0m\u001b[0m\n\u001b[0m\u001b[1;32m      7\u001b[0m         \u001b[0mself\u001b[0m\u001b[0;34m.\u001b[0m\u001b[0mactions\u001b[0m \u001b[0;34m=\u001b[0m \u001b[0mtorch\u001b[0m\u001b[0;34m.\u001b[0m\u001b[0mLongTensor\u001b[0m\u001b[0;34m(\u001b[0m\u001b[0mactions\u001b[0m\u001b[0;34m.\u001b[0m\u001b[0mastype\u001b[0m\u001b[0;34m(\u001b[0m\u001b[0;34m'int'\u001b[0m\u001b[0;34m)\u001b[0m\u001b[0;34m)\u001b[0m\u001b[0;34m.\u001b[0m\u001b[0mto\u001b[0m\u001b[0;34m(\u001b[0m\u001b[0mdevice\u001b[0m\u001b[0;34m)\u001b[0m\u001b[0;34m\u001b[0m\u001b[0;34m\u001b[0m\u001b[0m\n\u001b[1;32m      8\u001b[0m \u001b[0;34m\u001b[0m\u001b[0m\n",
      "\u001b[0;31mRuntimeError\u001b[0m: CUDA error: out of memory"
     ]
    }
   ],
   "source": [
    "dataset = Sampler(np.swapaxes(np.stack(im_list),1,3),np.stack(obj_list))\n",
    "\n",
    "train_dataset,test_dataset = torch.utils.data.random_split(dataset, [100,len(im_list)-100])"
   ]
  },
  {
   "cell_type": "code",
   "execution_count": null,
   "metadata": {},
   "outputs": [],
   "source": [
    "batch_size = 32\n",
    "train_loader = DataLoader(train_dataset, batch_size=batch_size, shuffle=True)"
   ]
  },
  {
   "cell_type": "code",
   "execution_count": null,
   "metadata": {},
   "outputs": [],
   "source": [
    "class Flatten(nn.Module):\n",
    "    def forward(self, input):\n",
    "        return input.view(input.size(0), -1)\n",
    "    \n",
    "class BCNet(nn.Module):\n",
    "\n",
    "    def __init__(self, latent_dim=16, image_channels=3, K=6):\n",
    "        super(BCNet, self).__init__()\n",
    "        \n",
    "        self.encoder = nn.Sequential(\n",
    "            nn.Conv2d(3, 32, kernel_size=5),\n",
    "            nn.ReLU(),\n",
    "            nn.Conv2d(32, 64, kernel_size=5),\n",
    "            nn.ReLU(),\n",
    "            nn.MaxPool2d(2,2),\n",
    "            nn.Conv2d(64, 128, kernel_size=5),\n",
    "            nn.ReLU(),\n",
    "            nn.MaxPool2d(2,2),\n",
    "            nn.Conv2d(128, 256, kernel_size=5),\n",
    "            nn.ReLU(),\n",
    "            nn.MaxPool2d(2,2),\n",
    "            Flatten(),\n",
    "            nn.Linear(4096, latent_dim),\n",
    "            nn.ReLU(),\n",
    "            nn.Dropout(p=0.5)\n",
    "        )\n",
    "        \n",
    "        # Sinkhorn params\n",
    "        self.latent_dim = latent_dim\n",
    "        self.K = K\n",
    "        \n",
    "        self.criterion = nn.CrossEntropyLoss()\n",
    "\n",
    "        self.fc = nn.Sequential(nn.Linear(self.latent_dim, self.latent_dim),\n",
    "                                nn.ReLU(),\n",
    "                        nn.Linear(self.latent_dim, K*K))\n",
    "    \n",
    "    def forward(self, im):\n",
    "        \n",
    "        latent = self.encoder(im)\n",
    "        y = self.fc(latent)\n",
    "        logits = torch.nn.functional.softmax(y.reshape(-1,self.K,self.K),dim=-1)\n",
    "        \n",
    "        return logits\n",
    "    \n",
    "    def loss(self, seq, im):\n",
    "        \n",
    "        seq_logits = self.forward(im)\n",
    "    \n",
    "        return self.criterion(seq_logits.view(-1,self.K),seq.view(-1)), seq_logits"
   ]
  },
  {
   "cell_type": "code",
   "execution_count": null,
   "metadata": {},
   "outputs": [],
   "source": [
    "test_loader = DataLoader(test_dataset, batch_size=1, shuffle=False)"
   ]
  },
  {
   "cell_type": "code",
   "execution_count": null,
   "metadata": {},
   "outputs": [],
   "source": [
    "bc = BCNet(latent_dim=128, image_channels=3, K=6)\n",
    "bc.to(device)\n",
    "optimizer = torch.optim.Adam(bc.parameters(), lr=3e-4)"
   ]
  },
  {
   "cell_type": "code",
   "execution_count": null,
   "metadata": {
    "scrolled": false
   },
   "outputs": [],
   "source": [
    "plt.figure(figsize=(15,5))\n",
    "\n",
    "n_epochs = 10000\n",
    "losses = []\n",
    "val_losses = []\n",
    "for j in range(n_epochs):\n",
    "    \n",
    "    batch_losses = []\n",
    "    for im, seq in train_loader:\n",
    "    \n",
    "        loss, seq_pred = bc.loss(seq, im)\n",
    " \n",
    "        batch_losses.append(loss.item())\n",
    "        \n",
    "        loss.backward()\n",
    "        optimizer.step()\n",
    "        optimizer.zero_grad()\n",
    "        \n",
    "    if j % 10 == 0:\n",
    "        losses.append(np.mean(batch_losses))\n",
    "\n",
    "        batch_val_losses = []\n",
    "        for im_t,seq_t in test_loader:\n",
    "            loss, seq_pred_t = bc.loss(seq_t, im_t)\n",
    "            batch_val_losses.append(loss.item())\n",
    "        val_losses.append(np.mean(batch_val_losses)) \n",
    "\n",
    "        plt.clf()\n",
    "        plt.cla()\n",
    "        plt.subplot(1,3,1)\n",
    "        plt.plot(losses,alpha=0.5)\n",
    "        plt.plot(val_losses,alpha=0.5)\n",
    "        plt.title('Loss')\n",
    "\n",
    "\n",
    "        plt.subplot(3,3,2)\n",
    "        seq_p = np.argmax(seq_pred[0,:,:].cpu().detach().numpy(),-1)\n",
    "        plt.imshow(seq_p.reshape(1,-1))\n",
    "        plt.title('Re-shuffled seq')\n",
    "\n",
    "        plt.subplot(3,3,8)\n",
    "        plt.imshow(seq[0,:].cpu().detach().numpy().reshape(1,-1))\n",
    "        plt.title('Original seq')\n",
    "\n",
    "        plt.subplot(1,3,3)\n",
    "        plt.imshow(np.swapaxes(im[0,:,:,:].cpu().detach().numpy(),0,2))\n",
    "\n",
    "\n",
    "        display.clear_output(wait=True)\n",
    "        display.display(plt.gcf())\n"
   ]
  },
  {
   "cell_type": "code",
   "execution_count": null,
   "metadata": {},
   "outputs": [],
   "source": [
    "bc.eval()"
   ]
  },
  {
   "cell_type": "code",
   "execution_count": null,
   "metadata": {},
   "outputs": [],
   "source": [
    "test_loader = DataLoader(test_dataset, batch_size=1, shuffle=False)"
   ]
  },
  {
   "cell_type": "code",
   "execution_count": null,
   "metadata": {
    "scrolled": true
   },
   "outputs": [],
   "source": [
    "tau_list = []\n",
    "for im,seq in test_loader:\n",
    "    seq_pred = bc(im)\n",
    "    obj_ids = np.argmax(seq_pred[0,:,:].cpu().detach().numpy(),-1)\n",
    "    tau, _ = kendalltau(obj_ids, seq[0,:].cpu().numpy())\n",
    "    tau_list.append(tau)\n",
    "\n",
    "tau_list_hung = []\n",
    "for im,seq in test_loader:\n",
    "    seq_pred = bc(im)\n",
    "    _,obj_ids = linear_sum_assignment(1.0-seq_pred[0,:,:].cpu().detach().numpy())\n",
    "    tau, _ = kendalltau(obj_ids, seq[0,:].cpu().numpy())\n",
    "    tau_list_hung.append(tau)\n",
    "\n",
    "plt.plot(tau_list)\n",
    "plt.plot(tau_list_hung)\n",
    "plt.ylabel('Kendall\\'s $\\\\tau$')\n",
    "plt.xlabel('Demonstration')\n",
    "plt.show()"
   ]
  },
  {
   "cell_type": "code",
   "execution_count": null,
   "metadata": {},
   "outputs": [],
   "source": [
    "from pyrep import PyRep\n",
    "from pyrep.robots.arms.panda import Panda\n",
    "from pyrep.robots.end_effectors.panda_gripper import PandaGripper\n",
    "import numpy as np\n",
    "from matplotlib import pyplot as plt\n",
    "\n",
    "from mpl_toolkits.mplot3d import Axes3D\n",
    "from IPython import display\n",
    "\n",
    "from pyrep.objects.shape import Shape\n",
    "from pyrep.const import PrimitiveShape\n",
    "\n",
    "from scipy.spatial.transform import Rotation as R\n",
    "\n",
    "import math\n",
    "from copy import copy"
   ]
  },
  {
   "cell_type": "code",
   "execution_count": null,
   "metadata": {},
   "outputs": [],
   "source": [
    "pr = PyRep()\n",
    "pr.launch('../../assets/scene_panda.ttt', headless=False)"
   ]
  },
  {
   "cell_type": "code",
   "execution_count": null,
   "metadata": {},
   "outputs": [],
   "source": [
    "agent = Panda()\n",
    "gripper = PandaGripper()"
   ]
  },
  {
   "cell_type": "code",
   "execution_count": null,
   "metadata": {},
   "outputs": [],
   "source": [
    "home_pos = agent.get_tip().get_position()\n",
    "home_orient = agent.get_tip().get_orientation()"
   ]
  },
  {
   "cell_type": "code",
   "execution_count": null,
   "metadata": {},
   "outputs": [],
   "source": [
    "def grasp(grip=False):\n",
    "    if grip:\n",
    "        pos = 0.1\n",
    "    else:\n",
    "        pos = 0.9\n",
    "    actuated = False\n",
    "    ims = []\n",
    "    states = []\n",
    "    while not actuated:\n",
    "        actuated = gripper.actuate(pos,0.1)\n",
    "        im0,im1 = get_image()\n",
    "        ims.append((im0,im1))\n",
    "        states.append(agent.get_tip().get_pose())\n",
    "    return ims,states"
   ]
  },
  {
   "cell_type": "code",
   "execution_count": null,
   "metadata": {},
   "outputs": [],
   "source": [
    "def move_above_object(object_name='',offset=0.05):\n",
    "    pos = agent.get_object(object_name).get_position()\n",
    "    pos[2] = pos[2] + offset\n",
    "    orient = [-np.pi,0,np.pi/2]\n",
    "\n",
    "    path = agent.get_path(position=pos,euler=orient)\n",
    "\n",
    "    done = False\n",
    "    ims = []\n",
    "    states = []\n",
    "    while not done:\n",
    "        done = path.step()\n",
    "        im0,im1 = get_image()\n",
    "        ims.append((im0,im1))\n",
    "        states.append(agent.get_tip().get_pose())\n",
    "    return ims,states"
   ]
  },
  {
   "cell_type": "code",
   "execution_count": null,
   "metadata": {},
   "outputs": [],
   "source": [
    "def get_image():\n",
    "    cam = agent.get_object('Vision_sensor_front')\n",
    "    im0 = cam.capture_rgb()\n",
    "    cam1 = agent.get_object('Vision_sensor')\n",
    "    im1 = cam1.capture_rgb()\n",
    "    pr.step()\n",
    "    return im0, im1"
   ]
  },
  {
   "cell_type": "code",
   "execution_count": null,
   "metadata": {},
   "outputs": [],
   "source": [
    "# Set up a dataloader for testing\n",
    "tl = iter(train_loader)\n",
    "\n",
    "# Run this repeatedly to see how the action sequencing works for different images\n",
    "im,seq = next(tl)\n",
    "seq_pred = bc(im)\n",
    "_,obj_ids = linear_sum_assignment(1.0-seq_pred[0,:,:].detach().numpy())\n",
    "\n",
    "pr.start()\n",
    "\n",
    "grasp(grip=False)\n",
    "gripper.release()\n",
    "ims = []\n",
    "states = []\n",
    "for j in range(1,len(obj_ids)):\n",
    "    object_name = 'Cuboid%d'%obj_ids[j]\n",
    "    i,s = move_above_object(object_name,offset=0.08)\n",
    "    ims = ims + i\n",
    "    states = states + s\n",
    "    i,s = move_above_object(object_name,offset=0)\n",
    "    ims = ims + i\n",
    "    states = states + s\n",
    "    i,s = grasp(grip=True)\n",
    "    ims = ims + i\n",
    "    states = states + s\n",
    "    gripper.grasp(agent.get_object(object_name))\n",
    "    i,s = move_above_object(object_name,offset=0.08)\n",
    "    ims = ims + i\n",
    "    states = states + s\n",
    "    object_name = 'Cuboid%d'%obj_ids[j-1]\n",
    "    i,s = move_above_object(object_name,offset=0.15)\n",
    "    ims = ims + i\n",
    "    states = states + s\n",
    "    i,s = move_above_object(object_name,offset=0.05)\n",
    "    ims = ims + i\n",
    "    states = states + s\n",
    "    i,s = grasp(grip=False)\n",
    "    ims = ims + i\n",
    "    states = states + s\n",
    "    gripper.release()\n",
    "    i,s = move_above_object(object_name,offset=0.2)\n",
    "    ims = ims + i\n",
    "    states = states + s\n",
    "    #clear_view()\n",
    "    \n",
    "    plt.cla()\n",
    "    plt.clf()\n",
    "    plt.subplot(1,3,1)\n",
    "    plt.imshow(ims[-1][0])\n",
    "    plt.title('Actual')\n",
    "    plt.subplot(1,3,2)\n",
    "    plt.imshow(ims[-1][1])\n",
    "    plt.subplot(1,3,3)\n",
    "    plt.imshow(np.swapaxes(im.numpy()[0,:,:],2,0))\n",
    "    plt.title('Target')\n",
    "    display.clear_output(wait=True)\n",
    "    display.display(plt.gcf())\n",
    "\n",
    "pr.stop()"
   ]
  },
  {
   "cell_type": "code",
   "execution_count": null,
   "metadata": {},
   "outputs": [],
   "source": [
    "pr.shutdown()"
   ]
  }
 ],
 "metadata": {
  "kernelspec": {
   "display_name": "Python 3",
   "language": "python",
   "name": "python3"
  },
  "language_info": {
   "codemirror_mode": {
    "name": "ipython",
    "version": 3
   },
   "file_extension": ".py",
   "mimetype": "text/x-python",
   "name": "python",
   "nbconvert_exporter": "python",
   "pygments_lexer": "ipython3",
   "version": "3.6.9"
  }
 },
 "nbformat": 4,
 "nbformat_minor": 2
}
