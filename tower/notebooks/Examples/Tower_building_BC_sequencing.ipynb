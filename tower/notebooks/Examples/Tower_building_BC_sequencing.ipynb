{
 "cells": [
  {
   "cell_type": "code",
   "execution_count": 4,
   "metadata": {},
   "outputs": [],
   "source": [
    "import numpy as np\n",
    "from matplotlib import pyplot as plt\n",
    "\n",
    "from mpl_toolkits.mplot3d import Axes3D\n",
    "from IPython import display\n",
    "\n",
    "from scipy.spatial.transform import Rotation as R\n",
    "\n",
    "import math\n",
    "from copy import copy\n",
    "import glob"
   ]
  },
  {
   "cell_type": "code",
   "execution_count": 5,
   "metadata": {},
   "outputs": [],
   "source": [
    "centre_list = []\n",
    "for f in glob.glob('./results/order*'):\n",
    "    obj_ids = np.load(f)\n",
    "    if obj_ids[0]==0:\n",
    "        centre_list.append(f)"
   ]
  },
  {
   "cell_type": "code",
   "execution_count": 6,
   "metadata": {},
   "outputs": [
    {
     "ename": "ValueError",
     "evalue": "'a' cannot be empty unless no samples are taken",
     "output_type": "error",
     "traceback": [
      "\u001b[0;31m---------------------------------------------------------------------------\u001b[0m",
      "\u001b[0;31mValueError\u001b[0m                                Traceback (most recent call last)",
      "\u001b[0;32m<ipython-input-6-2e86f6ce6ff3>\u001b[0m in \u001b[0;36m<module>\u001b[0;34m\u001b[0m\n\u001b[0;32m----> 1\u001b[0;31m \u001b[0mf\u001b[0m \u001b[0;34m=\u001b[0m \u001b[0mnp\u001b[0m\u001b[0;34m.\u001b[0m\u001b[0mrandom\u001b[0m\u001b[0;34m.\u001b[0m\u001b[0mchoice\u001b[0m\u001b[0;34m(\u001b[0m\u001b[0mcentre_list\u001b[0m\u001b[0;34m)\u001b[0m\u001b[0;34m\u001b[0m\u001b[0;34m\u001b[0m\u001b[0m\n\u001b[0m\u001b[1;32m      2\u001b[0m \u001b[0mrun\u001b[0m \u001b[0;34m=\u001b[0m \u001b[0mint\u001b[0m\u001b[0;34m(\u001b[0m\u001b[0mf\u001b[0m\u001b[0;34m.\u001b[0m\u001b[0msplit\u001b[0m\u001b[0;34m(\u001b[0m\u001b[0;34m'_'\u001b[0m\u001b[0;34m)\u001b[0m\u001b[0;34m[\u001b[0m\u001b[0;36m1\u001b[0m\u001b[0;34m]\u001b[0m\u001b[0;34m[\u001b[0m\u001b[0;34m:\u001b[0m\u001b[0;34m-\u001b[0m\u001b[0;36m4\u001b[0m\u001b[0;34m]\u001b[0m\u001b[0;34m)\u001b[0m\u001b[0;34m\u001b[0m\u001b[0;34m\u001b[0m\u001b[0m\n\u001b[1;32m      3\u001b[0m \u001b[0;34m\u001b[0m\u001b[0m\n\u001b[1;32m      4\u001b[0m \u001b[0mims\u001b[0m \u001b[0;34m=\u001b[0m \u001b[0mnp\u001b[0m\u001b[0;34m.\u001b[0m\u001b[0mload\u001b[0m\u001b[0;34m(\u001b[0m\u001b[0;34m'./results/ims_%d.npy'\u001b[0m\u001b[0;34m%\u001b[0m\u001b[0mrun\u001b[0m\u001b[0;34m)\u001b[0m\u001b[0;34m\u001b[0m\u001b[0;34m\u001b[0m\u001b[0m\n\u001b[1;32m      5\u001b[0m \u001b[0mstates\u001b[0m \u001b[0;34m=\u001b[0m \u001b[0mnp\u001b[0m\u001b[0;34m.\u001b[0m\u001b[0mload\u001b[0m\u001b[0;34m(\u001b[0m\u001b[0;34m'./results/states_%d.npy'\u001b[0m\u001b[0;34m%\u001b[0m\u001b[0mrun\u001b[0m\u001b[0;34m)\u001b[0m\u001b[0;34m\u001b[0m\u001b[0;34m\u001b[0m\u001b[0m\n",
      "\u001b[0;32mmtrand.pyx\u001b[0m in \u001b[0;36mmtrand.RandomState.choice\u001b[0;34m()\u001b[0m\n",
      "\u001b[0;31mValueError\u001b[0m: 'a' cannot be empty unless no samples are taken"
     ]
    }
   ],
   "source": [
    "f = np.random.choice(centre_list)\n",
    "run = int(f.split('_')[1][:-4])\n",
    "\n",
    "ims = np.load('./results/ims_%d.npy'%run)\n",
    "states = np.load('./results/states_%d.npy'%run)\n",
    "obj_ids = np.load('./results/order_%d.npy'%run)\n",
    "\n",
    "for i, im in enumerate(ims):\n",
    "    if i %10 == 0:\n",
    "        plt.cla()\n",
    "        plt.clf()\n",
    "        plt.subplot(2,2,1)\n",
    "        plt.imshow(im[0])\n",
    "        plt.subplot(2,2,2)\n",
    "        plt.imshow(im[1])\n",
    "        plt.subplot(2,1,2)\n",
    "        plt.plot(np.vstack(states)[0:i,:])\n",
    "        display.clear_output(wait=True)\n",
    "        display.display(plt.gcf())"
   ]
  },
  {
   "cell_type": "code",
   "execution_count": 4,
   "metadata": {},
   "outputs": [],
   "source": [
    "obj_list = []\n",
    "im_list = []\n",
    "for f in centre_list:\n",
    "    run = int(f.split('_')[1][:-4])\n",
    "\n",
    "    ims = np.load('./results/ims_%d.npy'%run)\n",
    "    obj_ids = np.load('./results/order_%d.npy'%run)\n",
    "    \n",
    "    obj_list.append(obj_ids)\n",
    "    im_list.append(ims[-1][0])"
   ]
  },
  {
   "cell_type": "code",
   "execution_count": 5,
   "metadata": {},
   "outputs": [],
   "source": [
    "# Action sequencing using visual permutations \n",
    "# ordered = P(im) disordered\n",
    "\n",
    "# pick and place, save location of pick/place\n",
    "# P*seq of moves = \n",
    "\n",
    "# Train, arbitrary, a_im -> ordered "
   ]
  },
  {
   "cell_type": "code",
   "execution_count": 6,
   "metadata": {},
   "outputs": [],
   "source": [
    "import torch\n",
    "import torch.nn as nn\n",
    "from torch.utils.data import Dataset\n",
    "from torch.utils.data import DataLoader"
   ]
  },
  {
   "cell_type": "code",
   "execution_count": 7,
   "metadata": {},
   "outputs": [],
   "source": [
    "# Set up pytorch dataloader\n",
    "class Sampler(Dataset):\n",
    "    \n",
    "    def __init__(self, ims, actions):\n",
    "        \n",
    "        self.ims = torch.FloatTensor(ims.astype('float'))\n",
    "        self.actions = torch.LongTensor(actions.astype('int'))\n",
    "        \n",
    "        \n",
    "    def __len__(self):\n",
    "        \n",
    "        return self.ims.shape[0]\n",
    "    \n",
    "    def __getitem__(self, index):\n",
    "        \n",
    "        im = self.ims[index,:,:,:]\n",
    "        actions = self.actions[index,:]\n",
    "        return im, actions\n"
   ]
  },
  {
   "cell_type": "code",
   "execution_count": 8,
   "metadata": {},
   "outputs": [],
   "source": [
    "dataset = Sampler(np.swapaxes(np.stack(im_list),1,3),np.stack(obj_list))\n",
    "\n",
    "train_dataset,test_dataset = torch.utils.data.random_split(dataset, [100,len(im_list)-100])"
   ]
  },
  {
   "cell_type": "code",
   "execution_count": 9,
   "metadata": {},
   "outputs": [],
   "source": [
    "batch_size = 8\n",
    "train_loader = DataLoader(train_dataset, batch_size=batch_size, shuffle=True)"
   ]
  },
  {
   "cell_type": "code",
   "execution_count": 10,
   "metadata": {},
   "outputs": [],
   "source": [
    "class Flatten(nn.Module):\n",
    "    def forward(self, input):\n",
    "        return input.view(input.size(0), -1)\n",
    "    \n",
    "class BCNet(nn.Module):\n",
    "\n",
    "    def __init__(self, latent_dim=16, image_channels=3, K=6):\n",
    "        super(BCNet, self).__init__()\n",
    "        \n",
    "        self.encoder = nn.Sequential(\n",
    "            nn.Conv2d(3, 32, kernel_size=5, stride=2),\n",
    "            nn.ReLU(),\n",
    "            nn.Conv2d(32, 64, kernel_size=5, stride=2),\n",
    "            nn.ReLU(),\n",
    "            nn.Conv2d(64, 128, kernel_size=5, stride=2),\n",
    "            nn.ReLU(),\n",
    "            nn.Conv2d(128, 256, kernel_size=5, stride=2),\n",
    "            nn.ReLU(),\n",
    "            Flatten(),\n",
    "            nn.Linear(256, latent_dim),\n",
    "        )\n",
    "        \n",
    "        # Sinkhorn params\n",
    "        self.latent_dim = latent_dim\n",
    "        self.K = K\n",
    "        \n",
    "        self.criterion = nn.CrossEntropyLoss()\n",
    "\n",
    "        self.fc = nn.Sequential(\n",
    "                        nn.Linear(self.latent_dim, K*K))\n",
    "    \n",
    "    def forward(self, im):\n",
    "        \n",
    "        latent = self.encoder(im)\n",
    "        y = self.fc(latent)\n",
    "        logits = torch.nn.functional.softmax(y.reshape(-1,self.K,self.K),dim=-1)\n",
    "        \n",
    "        return logits\n",
    "    \n",
    "    def loss(self, seq, im):\n",
    "        \n",
    "        seq_logits = self.forward(im)\n",
    "        \n",
    "        return self.criterion(seq_logits,seq), seq_logits"
   ]
  },
  {
   "cell_type": "code",
   "execution_count": 11,
   "metadata": {},
   "outputs": [],
   "source": [
    "bc = BCNet(latent_dim=16, image_channels=3, K=6)\n",
    "optimizer = torch.optim.Adam(bc.parameters(), lr=3e-4)"
   ]
  },
  {
   "cell_type": "code",
   "execution_count": null,
   "metadata": {},
   "outputs": [
    {
     "data": {
      "image/png": "[encoded data removed]",
      "text/plain": [
       "<matplotlib.figure.Figure at 0x7f6205f9e7f0>"
      ]
     },
     "metadata": {},
     "output_type": "display_data"
    }
   ],
   "source": [
    "plt.figure(figsize=(15,5))\n",
    "\n",
    "n_epochs = 500\n",
    "losses = []\n",
    "\n",
    "for j in range(n_epochs):\n",
    "    \n",
    "    batch_losses = []\n",
    "    for im, seq in train_loader:\n",
    "    \n",
    "        loss, seq_pred = bc.loss(seq, im)\n",
    "        \n",
    "        batch_losses.append(loss.item())\n",
    "        \n",
    "        loss.backward()\n",
    "        optimizer.step()\n",
    "        optimizer.zero_grad()\n",
    "        \n",
    "    losses.append(np.mean(batch_losses))\n",
    "    \n",
    "    plt.clf()\n",
    "    plt.cla()\n",
    "    plt.subplot(1,3,1)\n",
    "    plt.plot(losses,alpha=0.5)\n",
    "    plt.title('Loss')\n",
    "\n",
    "    \n",
    "    plt.subplot(3,3,2)\n",
    "    seq_p = np.argmax(seq_pred[0,:,:].detach().numpy(),-1)\n",
    "    plt.imshow(seq_p.reshape(1,-1))\n",
    "    plt.title('Re-shuffled seq')\n",
    "    \n",
    "    plt.subplot(3,3,8)\n",
    "    plt.imshow(seq[0,:].detach().numpy().reshape(1,-1))\n",
    "    plt.title('Original seq')\n",
    "    \n",
    "    plt.subplot(1,3,3)\n",
    "    plt.imshow(np.swapaxes(im[0,:,:,:].detach().numpy(),0,2))\n",
    "    \n",
    "        \n",
    "    display.clear_output(wait=True)\n",
    "    display.display(plt.gcf())\n",
    "    "
   ]
  },
  {
   "cell_type": "code",
   "execution_count": null,
   "metadata": {},
   "outputs": [],
   "source": [
    "# Action sequencing using classification\n",
    "\n",
    "# Exps -> compare to classification baseline\n",
    "# Exps -> generalisation with respect to unseen configs?\n",
    "# Exps -> "
   ]
  },
  {
   "cell_type": "code",
   "execution_count": null,
   "metadata": {},
   "outputs": [],
   "source": [
    "from pyrep import PyRep\n",
    "from pyrep.robots.arms.panda import Panda\n",
    "from pyrep.robots.end_effectors.panda_gripper import PandaGripper\n",
    "import numpy as np\n",
    "from matplotlib import pyplot as plt\n",
    "\n",
    "from mpl_toolkits.mplot3d import Axes3D\n",
    "from IPython import display\n",
    "\n",
    "from pyrep.objects.shape import Shape\n",
    "from pyrep.const import PrimitiveShape\n",
    "\n",
    "from scipy.spatial.transform import Rotation as R\n",
    "\n",
    "import math\n",
    "from copy import copy"
   ]
  },
  {
   "cell_type": "code",
   "execution_count": null,
   "metadata": {},
   "outputs": [],
   "source": [
    "pr = PyRep()\n",
    "pr.launch('./assets/scene_panda.ttt', headless=False)"
   ]
  },
  {
   "cell_type": "code",
   "execution_count": null,
   "metadata": {},
   "outputs": [],
   "source": [
    "agent = Panda()\n",
    "gripper = PandaGripper()"
   ]
  },
  {
   "cell_type": "code",
   "execution_count": null,
   "metadata": {},
   "outputs": [],
   "source": [
    "home_pos = agent.get_tip().get_position()\n",
    "home_orient = agent.get_tip().get_orientation()"
   ]
  },
  {
   "cell_type": "code",
   "execution_count": null,
   "metadata": {},
   "outputs": [],
   "source": [
    "def grasp(grip=False):\n",
    "    if grip:\n",
    "        pos = 0.1\n",
    "    else:\n",
    "        pos = 0.9\n",
    "    actuated = False\n",
    "    ims = []\n",
    "    states = []\n",
    "    while not actuated:\n",
    "        actuated = gripper.actuate(pos,0.1)\n",
    "        im0,im1 = get_image()\n",
    "        ims.append((im0,im1))\n",
    "        states.append(agent.get_tip().get_pose())\n",
    "    return ims,states"
   ]
  },
  {
   "cell_type": "code",
   "execution_count": null,
   "metadata": {},
   "outputs": [],
   "source": [
    "def move_above_object(object_name='',offset=0.05):\n",
    "    pos = agent.get_object(object_name).get_position()\n",
    "    pos[2] = pos[2] + offset\n",
    "    orient = [-np.pi,0,np.pi/2]\n",
    "\n",
    "    path = agent.get_path(position=pos,euler=orient)\n",
    "\n",
    "    done = False\n",
    "    ims = []\n",
    "    states = []\n",
    "    while not done:\n",
    "        done = path.step()\n",
    "        im0,im1 = get_image()\n",
    "        ims.append((im0,im1))\n",
    "        states.append(agent.get_tip().get_pose())\n",
    "    return ims,states"
   ]
  },
  {
   "cell_type": "code",
   "execution_count": null,
   "metadata": {},
   "outputs": [],
   "source": [
    "def get_image():\n",
    "    cam = agent.get_object('Vision_sensor_front')\n",
    "    im0 = cam.capture_rgb()\n",
    "    cam1 = agent.get_object('Vision_sensor')\n",
    "    im1 = cam1.capture_rgb()\n",
    "    pr.step()\n",
    "    return im0, im1"
   ]
  },
  {
   "cell_type": "code",
   "execution_count": null,
   "metadata": {},
   "outputs": [],
   "source": [
    "bc.eval()"
   ]
  },
  {
   "cell_type": "code",
   "execution_count": null,
   "metadata": {},
   "outputs": [],
   "source": [
    "test_loader = DataLoader(test_dataset, batch_size=1, shuffle=False)"
   ]
  },
  {
   "cell_type": "code",
   "execution_count": null,
   "metadata": {},
   "outputs": [],
   "source": [
    "from scipy.stats import kendalltau"
   ]
  },
  {
   "cell_type": "code",
   "execution_count": null,
   "metadata": {},
   "outputs": [],
   "source": [
    "tau_list = []\n",
    "for im,seq in test_loader:\n",
    "    seq_pred = bc(im)\n",
    "    obj_ids = np.round(np.matmul(seq_pred[0,:,:].detach().numpy(),np.arange(6))).astype(int)\n",
    "    #obj_ids = np.argmax(seq_pred[0,:,:].detach().numpy(),-1)\n",
    "    tau, _ = kendalltau(obj_ids, seq[0,:].numpy())\n",
    "    tau_list.append(tau)"
   ]
  },
  {
   "cell_type": "code",
   "execution_count": null,
   "metadata": {},
   "outputs": [],
   "source": [
    "tau_list_hung = []\n",
    "for im,seq in test_loader:\n",
    "    seq_pred = bc(im)\n",
    "    _,obj_ids = linear_sum_assignment(1.0-seq_pred[0,:,:].detach().numpy())\n",
    "    #obj_ids = np.argmax(seq_pred[0,:,:].detach().numpy(),-1)\n",
    "    tau, _ = kendalltau(obj_ids, seq[0,:].numpy())\n",
    "    tau_list_hung.append(tau)"
   ]
  },
  {
   "cell_type": "code",
   "execution_count": null,
   "metadata": {},
   "outputs": [],
   "source": [
    "plt.plot(tau_list)\n",
    "plt.plot(tau_list_hung)\n",
    "plt.show()"
   ]
  },
  {
   "cell_type": "code",
   "execution_count": null,
   "metadata": {},
   "outputs": [],
   "source": [
    "from scipy.optimize import linear_sum_assignment"
   ]
  },
  {
   "cell_type": "code",
   "execution_count": null,
   "metadata": {},
   "outputs": [],
   "source": [
    "im,seq= next(iter(test_loader))\n",
    "seq_pred = bc(im)\n",
    "_,obj_ids = linear_sum_assignment(1-seq_pred[0,:,:].detach().numpy())\n",
    "# obj_ids = np.argmax(seq_pred[0,:,:].detach().numpy(),-1)\n",
    "# obj_ids = np.round(np.matmul(seq_pred[0,:,:].detach().numpy(),np.arange(6))).astype(int)\n",
    "obj_ids"
   ]
  },
  {
   "cell_type": "code",
   "execution_count": null,
   "metadata": {},
   "outputs": [],
   "source": [
    "plt.imshow(seq_pred[0,:,:].detach().numpy())\n",
    "plt.show()"
   ]
  },
  {
   "cell_type": "code",
   "execution_count": null,
   "metadata": {},
   "outputs": [],
   "source": [
    "plt.imshow(np.swapaxes(im[0,:,:,:].detach().numpy(),0,2))\n",
    "plt.show()"
   ]
  },
  {
   "cell_type": "code",
   "execution_count": null,
   "metadata": {},
   "outputs": [],
   "source": [
    "pr.start()\n",
    "\n",
    "grasp(grip=False)\n",
    "gripper.release()\n",
    "ims = []\n",
    "states = []\n",
    "for j in range(1,6):\n",
    "    object_name = 'Cuboid%d'%obj_ids[j]\n",
    "    i,s = move_above_object(object_name,offset=0.08)\n",
    "    ims = ims + i\n",
    "    states = states + s\n",
    "    i,s = move_above_object(object_name,offset=0)\n",
    "    ims = ims + i\n",
    "    states = states + s\n",
    "    i,s = grasp(grip=True)\n",
    "    ims = ims + i\n",
    "    states = states + s\n",
    "    gripper.grasp(agent.get_object(object_name))\n",
    "    i,s = move_above_object(object_name,offset=0.08)\n",
    "    ims = ims + i\n",
    "    states = states + s\n",
    "    object_name = 'Cuboid%d'%obj_ids[j-1]\n",
    "    i,s = move_above_object(object_name,offset=0.15)\n",
    "    ims = ims + i\n",
    "    states = states + s\n",
    "    i,s = move_above_object(object_name,offset=0.05)\n",
    "    ims = ims + i\n",
    "    states = states + s\n",
    "    i,s = grasp(grip=False)\n",
    "    ims = ims + i\n",
    "    states = states + s\n",
    "    gripper.release()\n",
    "    i,s = move_above_object(object_name,offset=0.2)\n",
    "    ims = ims + i\n",
    "    states = states + s\n",
    "    #clear_view()\n",
    "    \n",
    "    plt.cla()\n",
    "    plt.clf()\n",
    "    plt.subplot(1,2,1)\n",
    "    plt.imshow(ims[-1][0])\n",
    "    plt.subplot(1,2,2)\n",
    "    plt.imshow(ims[-1][1])\n",
    "    display.clear_output(wait=True)\n",
    "    display.display(plt.gcf())\n",
    "\n",
    "pr.stop()"
   ]
  },
  {
   "cell_type": "code",
   "execution_count": null,
   "metadata": {},
   "outputs": [],
   "source": [
    "pr.stop()"
   ]
  },
  {
   "cell_type": "code",
   "execution_count": null,
   "metadata": {},
   "outputs": [],
   "source": [
    "pr.shutdown()"
   ]
  }
 ],
 "metadata": {
  "kernelspec": {
   "display_name": "Python 3",
   "language": "python",
   "name": "python3"
  },
  "language_info": {
   "codemirror_mode": {
    "name": "ipython",
    "version": 3
   },
   "file_extension": ".py",
   "mimetype": "text/x-python",
   "name": "python",
   "nbconvert_exporter": "python",
   "pygments_lexer": "ipython3",
   "version": "3.6.9"
  }
 },
 "nbformat": 4,
 "nbformat_minor": 2
}
