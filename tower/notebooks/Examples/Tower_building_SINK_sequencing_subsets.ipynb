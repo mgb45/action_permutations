{
 "cells": [
  {
   "cell_type": "code",
   "execution_count": 1,
   "metadata": {},
   "outputs": [],
   "source": [
    "import numpy as np\n",
    "from matplotlib import pyplot as plt\n",
    "\n",
    "from mpl_toolkits.mplot3d import Axes3D\n",
    "from IPython import display\n",
    "\n",
    "from scipy.spatial.transform import Rotation as R\n",
    "\n",
    "import math\n",
    "from copy import copy\n",
    "import glob\n",
    "\n",
    "import random\n",
    "from scipy.stats import kendalltau"
   ]
  },
  {
   "cell_type": "markdown",
   "metadata": {},
   "source": [
    "# First, we'll load some data"
   ]
  },
  {
   "cell_type": "code",
   "execution_count": 2,
   "metadata": {},
   "outputs": [],
   "source": [
    "flist = sorted(glob.glob('../../demos/perms_subsets/order*'))\n",
    "random.shuffle(flist)"
   ]
  },
  {
   "cell_type": "code",
   "execution_count": 3,
   "metadata": {},
   "outputs": [],
   "source": [
    "# Load 300 examples\n",
    "obj_list = []\n",
    "im_list = []\n",
    "for i,f in enumerate(flist[0:300]):\n",
    "    run = int(f.split('_')[2][:-4])\n",
    "\n",
    "    im = np.load('../../demos/perms_subsets/ims_%04d.npy'%run)\n",
    "    obj_ids = np.load('../../demos/perms_subsets/order_%04d.npy'%run)\n",
    "    \n",
    "    obj_list.append(obj_ids)\n",
    "    im_list.append(im)"
   ]
  },
  {
   "cell_type": "code",
   "execution_count": 4,
   "metadata": {},
   "outputs": [],
   "source": [
    "# Force into masked tensor structure\n",
    "obj_idxs = np.ones((len(obj_list),6))*0\n",
    "seq_len = []\n",
    "for j,obj_idx in enumerate(obj_list):\n",
    "    seq_len.append(obj_idx.shape[0]-1)\n",
    "    obj_idxs[j,0:obj_idx.shape[0]] = obj_idx"
   ]
  },
  {
   "cell_type": "code",
   "execution_count": null,
   "metadata": {},
   "outputs": [],
   "source": [
    "import torch\n",
    "import torch.nn as nn\n",
    "from torch.utils.data import Dataset\n",
    "from torch.utils.data import DataLoader\n",
    "device = torch.device(\"cuda:1\")"
   ]
  },
  {
   "cell_type": "markdown",
   "metadata": {},
   "source": [
    "# Next, we'll define a dataloader and Sinkhorn network"
   ]
  },
  {
   "cell_type": "code",
   "execution_count": null,
   "metadata": {},
   "outputs": [],
   "source": [
    "# Set up pytorch dataloader\n",
    "class Sampler(Dataset):\n",
    "    \n",
    "    def __init__(self, ims, actions, seq_lens, K=6):\n",
    "        \n",
    "        self.ims = torch.FloatTensor(ims.astype('float')).to(device)\n",
    "        self.actions = torch.FloatTensor(actions.astype('float')).to(device)\n",
    "        self.seq_lens = torch.LongTensor(seq_lens.astype('int')).to(device)\n",
    "        self.K = K\n",
    "        \n",
    "        \n",
    "    def __len__(self):\n",
    "        \n",
    "        return self.ims.shape[0]\n",
    "    \n",
    "    def __getitem__(self, index):\n",
    "        \n",
    "        im = self.ims[index,:,:,:]\n",
    "        actions = self.actions[index,:]\n",
    "        seq_len = self.seq_lens[index]\n",
    "        return im, actions, torch.FloatTensor(np.arange(self.K).astype('float')).to(device), seq_len\n"
   ]
  },
  {
   "cell_type": "code",
   "execution_count": null,
   "metadata": {},
   "outputs": [],
   "source": [
    "dataset = Sampler(np.swapaxes(np.stack(im_list),1,3),obj_idxs,np.array(seq_len),6)\n",
    "\n",
    "train_dataset,test_dataset = torch.utils.data.random_split(dataset, [200,len(im_list)-200])"
   ]
  },
  {
   "cell_type": "code",
   "execution_count": null,
   "metadata": {},
   "outputs": [],
   "source": [
    "batch_size = 32\n",
    "train_loader = DataLoader(train_dataset, batch_size=batch_size, shuffle=True)"
   ]
  },
  {
   "cell_type": "code",
   "execution_count": null,
   "metadata": {},
   "outputs": [],
   "source": [
    "class Flatten(nn.Module):\n",
    "    def forward(self, input):\n",
    "        return input.view(input.size(0), -1)\n",
    "    \n",
    "class SinkhornNet(nn.Module):\n",
    "\n",
    "    def __init__(self, latent_dim=16, image_channels=3, K=6, n_samples=5, noise_factor=1.0, temp=1.0, n_iters=20):\n",
    "        super(SinkhornNet, self).__init__()\n",
    "        \n",
    "        self.encoder = nn.Sequential(\n",
    "            nn.Conv2d(3, 32, kernel_size=5),\n",
    "            nn.ReLU(),\n",
    "            nn.Conv2d(32, 64, kernel_size=5),\n",
    "            nn.ReLU(),\n",
    "            nn.MaxPool2d(2,2),\n",
    "            nn.Conv2d(64, 128, kernel_size=5),\n",
    "            nn.ReLU(),\n",
    "            nn.MaxPool2d(2,2),\n",
    "            nn.Conv2d(128, 256, kernel_size=5),\n",
    "            nn.ReLU(),\n",
    "            nn.MaxPool2d(2,2),\n",
    "            Flatten(),\n",
    "            nn.Linear(4096, latent_dim),\n",
    "            nn.ReLU(),\n",
    "            nn.Dropout(p=0.5)\n",
    "        )\n",
    "        \n",
    "        # Sinkhorn params\n",
    "        self.latent_dim = latent_dim\n",
    "        self.K = K\n",
    "        self.n_samples = n_samples\n",
    "        self.noise_factor = noise_factor\n",
    "        self.temp = temp\n",
    "        self.n_iters = n_iters\n",
    "        \n",
    "        self.criterion = nn.MSELoss(reduction='none')\n",
    "        self.mask_criterion = nn.CrossEntropyLoss()\n",
    "\n",
    "        self.sinknet = nn.Sequential(nn.Linear(self.latent_dim, self.latent_dim),\n",
    "                                     nn.ReLU(),\n",
    "                                     nn.Linear(self.latent_dim, K*K))\n",
    "        \n",
    "        self.masknet = nn.Sequential(\n",
    "                        nn.Linear(self.latent_dim, K),nn.Softmax(dim=1))\n",
    "    \n",
    "    def permute(self,seq,P):\n",
    "        \n",
    "        return torch.matmul(P,seq)\n",
    "    \n",
    "    def predict_P(self,im):\n",
    "        \n",
    "        latent = self.encoder(im)\n",
    "        log_alpha = self.sinknet(latent)\n",
    "        log_alpha = log_alpha.reshape(-1, self.K, self.K)\n",
    "         \n",
    "        soft_perms_inf, log_alpha_w_noise = self.gumbel_sinkhorn(log_alpha)\n",
    "        \n",
    "        P = self.inv_soft_pers_flattened(soft_perms_inf,self.K)\n",
    "        return P\n",
    "    \n",
    "    def forward(self, seq, im):\n",
    "        \n",
    "        latent = self.encoder(im)\n",
    "        log_alpha = self.sinknet(latent)\n",
    "        log_alpha = log_alpha.reshape(-1, self.K, self.K)\n",
    "         \n",
    "        soft_perms_inf, log_alpha_w_noise = self.gumbel_sinkhorn(log_alpha)\n",
    "        \n",
    "        P = self.inv_soft_pers_flattened(soft_perms_inf,self.K)\n",
    "        \n",
    "        seq_tiled = seq.repeat(self.n_samples, 1)\n",
    "        ordered  = self.permute(torch.unsqueeze(seq_tiled,dim=-1),P)\n",
    "\n",
    "        stopping = self.masknet(latent)\n",
    "        \n",
    "        return ordered, stopping\n",
    "    \n",
    "    def loss(self, seq, im, seq_gt, seq_len):\n",
    "        \n",
    "        seq_pred,stopping_bin = self.forward(seq_gt,im)\n",
    "        seq_pred = torch.squeeze(seq_pred)\n",
    "\n",
    "        mask_loss = self.mask_criterion(stopping_bin,seq_len)\n",
    "        \n",
    "        mask_idxs = torch.arange(0,self.K).repeat(seq_pred.size(0),1).to(device)\n",
    "        \n",
    "        seq_len_mask = seq_len.reshape(-1,1).repeat(self.n_samples,self.K)\n",
    "       \n",
    "        stopping_mask = (mask_idxs<=seq_len_mask).int().float()\n",
    "       \n",
    "        recon_loss = self.criterion(seq_pred*stopping_mask,seq.repeat(self.n_samples, 1)*stopping_mask)\n",
    "        \n",
    "        recon_loss = (recon_loss.sum(dim=-1)/seq_len.repeat(self.n_samples).int().float()).mean()\n",
    "        \n",
    "        return recon_loss, mask_loss, seq_pred,stopping_mask\n",
    "    \n",
    "    def inv_soft_pers_flattened(self,soft_perms_inf,n_numbers):\n",
    "        inv_soft_perms = torch.transpose(soft_perms_inf, 2, 3)\n",
    "        inv_soft_perms = torch.transpose(inv_soft_perms, 0, 1)\n",
    "\n",
    "        inv_soft_perms_flat = inv_soft_perms.view(-1, n_numbers, n_numbers)\n",
    "        return inv_soft_perms_flat\n",
    "    \n",
    "    def sample_gumbel(self, shape, eps=1e-20):\n",
    "        U = torch.rand(shape).float().to(device)\n",
    "        return -torch.log(eps - torch.log(U + eps))\n",
    "    \n",
    "    def gumbel_sinkhorn(self,log_alpha):\n",
    "        \n",
    "        n = log_alpha.size()[1]\n",
    "        log_alpha = log_alpha.view(-1, n, n)\n",
    "        batch_size = log_alpha.size()[0]\n",
    "\n",
    "        log_alpha_w_noise = log_alpha.repeat(self.n_samples, 1, 1)\n",
    "\n",
    "        if self.noise_factor == 0:\n",
    "            noise = 0.0\n",
    "        else:\n",
    "            noise = self.sample_gumbel([self.n_samples*batch_size, n, n])*self.noise_factor\n",
    "\n",
    "        log_alpha_w_noise = log_alpha_w_noise + noise\n",
    "        log_alpha_w_noise = log_alpha_w_noise / self.temp\n",
    "\n",
    "        my_log_alpha_w_noise = log_alpha_w_noise.clone()\n",
    "\n",
    "        sink = self.sinkhorn(my_log_alpha_w_noise)\n",
    "\n",
    "        sink = sink.view(self.n_samples, batch_size, n, n)\n",
    "        sink = torch.transpose(sink, 1, 0)\n",
    "        log_alpha_w_noise = log_alpha_w_noise.view(self.n_samples, batch_size, n, n)\n",
    "        log_alpha_w_noise = torch.transpose(log_alpha_w_noise, 1, 0)\n",
    "\n",
    "        return sink, log_alpha_w_noise\n",
    "    \n",
    "    def sinkhorn(self,log_alpha, n_iters = 20):\n",
    "   \n",
    "        n = log_alpha.size()[1]\n",
    "        log_alpha = log_alpha.view(-1, n, n)\n",
    "\n",
    "        for i in range(n_iters):\n",
    "            log_alpha = log_alpha - (torch.logsumexp(log_alpha, dim=2, keepdim=True)).view(-1, n, 1)\n",
    "            log_alpha = log_alpha - (torch.logsumexp(log_alpha, dim=1, keepdim=True)).view(-1, 1, n)\n",
    "        return torch.exp(log_alpha)\n"
   ]
  },
  {
   "cell_type": "markdown",
   "metadata": {},
   "source": [
    "# Now, let's train the network"
   ]
  },
  {
   "cell_type": "code",
   "execution_count": null,
   "metadata": {},
   "outputs": [],
   "source": [
    "sn = SinkhornNet(latent_dim=128, image_channels=3, K=6)\n",
    "sn.to(device)\n",
    "optimizer = torch.optim.Adam(sn.parameters(), lr=3e-4)\n",
    "n_epochs = 5000\n",
    "losses = []\n",
    "losses_m = []"
   ]
  },
  {
   "cell_type": "code",
   "execution_count": null,
   "metadata": {
    "scrolled": false
   },
   "outputs": [
    {
     "data": {
      "image/png": "[encoded data removed]",
      "text/plain": [
       "<Figure size 1080x504 with 7 Axes>"
      ]
     },
     "metadata": {},
     "output_type": "display_data"
    }
   ],
   "source": [
    "plt.figure(figsize=(15,7))\n",
    "\n",
    "for j in range(n_epochs):\n",
    "    \n",
    "    batch_losses = []\n",
    "    batch_losses_m = []\n",
    "    for im, seq, seq_order,seq_len in train_loader:\n",
    "    \n",
    "        loss_r,loss_m, seq_pred,mask = sn.loss(seq, im, seq_order,seq_len)\n",
    "        \n",
    "        batch_losses.append(loss_r.item())\n",
    "        batch_losses_m.append(loss_m.item())\n",
    "        \n",
    "        loss = loss_r + loss_m\n",
    "        loss.backward()\n",
    "        optimizer.step()\n",
    "        optimizer.zero_grad()\n",
    "        \n",
    "    losses.append(np.mean(batch_losses))\n",
    "    losses_m.append(np.mean(batch_losses_m))\n",
    "    \n",
    "    plt.clf()\n",
    "    plt.cla()\n",
    "    plt.subplot(2,3,1)\n",
    "    plt.plot(losses,alpha=0.5)\n",
    "    plt.title('Recon loss')\n",
    "    plt.subplot(2,3,4)\n",
    "    plt.plot(losses_m,alpha=0.5)\n",
    "    plt.title('Mask loss')\n",
    "\n",
    "    plt.subplot(2,3,6)\n",
    "    P = sn.predict_P(im)\n",
    "    plt.imshow(P[0,:,:].cpu().detach().numpy())\n",
    "    plt.title('Permutation')\n",
    "    \n",
    "    plt.subplot(3,3,2)\n",
    "    plt.imshow(seq_pred[0,:].cpu().detach().numpy().reshape(1,-1))\n",
    "    plt.title('Re-shuffled seq')\n",
    "    \n",
    "    plt.subplot(3,3,5)\n",
    "    plt.imshow(seq_order[0,:].cpu().detach().numpy().reshape(1,-1))\n",
    "    plt.title('Ordered seq')\n",
    "    \n",
    "    plt.subplot(3,3,8)\n",
    "    plt.imshow(seq[0,:].cpu().detach().numpy().reshape(1,-1))\n",
    "    plt.title('Original seq')\n",
    "    \n",
    "    plt.subplot(2,3,3)\n",
    "    plt.imshow(np.swapaxes(im[0,:,:,:].cpu().detach().numpy(),0,2))\n",
    "    \n",
    "        \n",
    "    display.clear_output(wait=True)\n",
    "    display.display(plt.gcf())\n",
    "    "
   ]
  },
  {
   "cell_type": "markdown",
   "metadata": {},
   "source": [
    "# Now evaluate on test set"
   ]
  },
  {
   "cell_type": "code",
   "execution_count": null,
   "metadata": {},
   "outputs": [],
   "source": [
    "sn.eval()\n",
    "sn.noise_factor = 0.0\n",
    "sn.n_samples = 1\n",
    "sn.n_iters = 100"
   ]
  },
  {
   "cell_type": "code",
   "execution_count": null,
   "metadata": {},
   "outputs": [],
   "source": [
    "test_loader = DataLoader(test_dataset, batch_size=1, shuffle=False)"
   ]
  },
  {
   "cell_type": "code",
   "execution_count": null,
   "metadata": {},
   "outputs": [],
   "source": [
    "tau_list = []\n",
    "Acc = []\n",
    "for im,seq,seq_ordered,seq_len in test_loader:\n",
    "    P = sn.predict_P(im)\n",
    "    order,stop = sn(seq_ordered,im)\n",
    "    Acc.append(np.argmax(stop.cpu().detach().numpy(),1)==seq_len.cpu().numpy())\n",
    "#     obj_ids = np.round(np.matmul(np.linalg.inv(P[0,:,:].detach().numpy()),seq_ordered[0,:].numpy())).astype(int)\n",
    "    obj_ids = np.argmax(P[0,:,:].cpu().detach().numpy(),1)\n",
    "    tau, _ = kendalltau(obj_ids[0:seq_len.cpu().numpy()[0]], seq[0,0:seq_len.cpu().numpy()[0]].cpu().numpy())\n",
    "    tau_list.append(tau)\n",
    "\n",
    "\n",
    "print('Stopping accuracy:',np.sum(Acc)/len(Acc))\n",
    "\n",
    "plt.figure(figsize=(15,5))\n",
    "plt.plot(tau_list)\n",
    "plt.ylabel('Kendall\\'s $\\\\tau$')\n",
    "plt.xlabel('Demonstration')\n",
    "plt.grid()\n",
    "plt.show()"
   ]
  },
  {
   "cell_type": "markdown",
   "metadata": {},
   "source": [
    "# Demonstrate in CoppeliaSim"
   ]
  },
  {
   "cell_type": "code",
   "execution_count": null,
   "metadata": {},
   "outputs": [],
   "source": [
    "from pyrep import PyRep\n",
    "from pyrep.robots.arms.panda import Panda\n",
    "from pyrep.robots.end_effectors.panda_gripper import PandaGripper\n",
    "import numpy as np\n",
    "from matplotlib import pyplot as plt\n",
    "\n",
    "from mpl_toolkits.mplot3d import Axes3D\n",
    "from IPython import display\n",
    "\n",
    "from pyrep.objects.shape import Shape\n",
    "from pyrep.const import PrimitiveShape\n",
    "\n",
    "from scipy.spatial.transform import Rotation as R\n",
    "\n",
    "import math\n",
    "from copy import copy"
   ]
  },
  {
   "cell_type": "code",
   "execution_count": null,
   "metadata": {},
   "outputs": [],
   "source": [
    "pr = PyRep()\n",
    "pr.launch('../../assets/scene_panda.ttt', headless=False)"
   ]
  },
  {
   "cell_type": "code",
   "execution_count": null,
   "metadata": {},
   "outputs": [],
   "source": [
    "agent = Panda()\n",
    "gripper = PandaGripper()"
   ]
  },
  {
   "cell_type": "code",
   "execution_count": null,
   "metadata": {},
   "outputs": [],
   "source": [
    "home_pos = agent.get_tip().get_position()\n",
    "home_orient = agent.get_tip().get_orientation()"
   ]
  },
  {
   "cell_type": "code",
   "execution_count": null,
   "metadata": {},
   "outputs": [],
   "source": [
    "def grasp(grip=False):\n",
    "    if grip:\n",
    "        pos = 0.1\n",
    "    else:\n",
    "        pos = 0.9\n",
    "    actuated = False\n",
    "    ims = []\n",
    "    states = []\n",
    "    while not actuated:\n",
    "        actuated = gripper.actuate(pos,0.1)\n",
    "        im0,im1 = get_image()\n",
    "        ims.append((im0,im1))\n",
    "        states.append(agent.get_tip().get_pose())\n",
    "    return ims,states"
   ]
  },
  {
   "cell_type": "code",
   "execution_count": null,
   "metadata": {},
   "outputs": [],
   "source": [
    "def move_above_object(object_name='',offset=0.05):\n",
    "    pos = agent.get_object(object_name).get_position()\n",
    "    pos[2] = pos[2] + offset\n",
    "    orient = [-np.pi,0,np.pi/2]\n",
    "\n",
    "    path = agent.get_path(position=pos,euler=orient)\n",
    "\n",
    "    done = False\n",
    "    ims = []\n",
    "    states = []\n",
    "    while not done:\n",
    "        done = path.step()\n",
    "        im0,im1 = get_image()\n",
    "        ims.append((im0,im1))\n",
    "        states.append(agent.get_tip().get_pose())\n",
    "    return ims,states"
   ]
  },
  {
   "cell_type": "code",
   "execution_count": null,
   "metadata": {},
   "outputs": [],
   "source": [
    "def get_image():\n",
    "    cam = agent.get_object('Vision_sensor_front')\n",
    "    im0 = cam.capture_rgb()\n",
    "    cam1 = agent.get_object('Vision_sensor')\n",
    "    im1 = cam1.capture_rgb()\n",
    "    pr.step()\n",
    "    return im0, im1"
   ]
  },
  {
   "cell_type": "code",
   "execution_count": null,
   "metadata": {},
   "outputs": [],
   "source": [
    "# Set up a dataloader for testing\n",
    "tl = iter(train_loader)"
   ]
  },
  {
   "cell_type": "code",
   "execution_count": null,
   "metadata": {},
   "outputs": [],
   "source": [
    "# Run this repeatedly to see how the action sequencing works for different images\n",
    "im,seq,seq_ordered,seq_len = next(tl)\n",
    "P = sn.predict_P(im)\n",
    "_,stop_logit = sn(seq_ordered,im)\n",
    "\n",
    "stop_bin = np.argmax(stop_logit.detach().numpy(),-1)\n",
    "\n",
    "obj_ids = np.argmax(P[0,:,:].detach().numpy(),1)[0:(stop_bin[0]+1)]\n",
    "\n",
    "pr.start()\n",
    "\n",
    "grasp(grip=False)\n",
    "gripper.release()\n",
    "ims = []\n",
    "states = []\n",
    "for j in range(1,len(obj_ids)):\n",
    "    object_name = 'Cuboid%d'%obj_ids[j]\n",
    "    i,s = move_above_object(object_name,offset=0.08)\n",
    "    ims = ims + i\n",
    "    states = states + s\n",
    "    i,s = move_above_object(object_name,offset=0)\n",
    "    ims = ims + i\n",
    "    states = states + s\n",
    "    i,s = grasp(grip=True)\n",
    "    ims = ims + i\n",
    "    states = states + s\n",
    "    gripper.grasp(agent.get_object(object_name))\n",
    "    i,s = move_above_object(object_name,offset=0.08)\n",
    "    ims = ims + i\n",
    "    states = states + s\n",
    "    object_name = 'Cuboid%d'%obj_ids[j-1]\n",
    "    i,s = move_above_object(object_name,offset=0.15)\n",
    "    ims = ims + i\n",
    "    states = states + s\n",
    "    i,s = move_above_object(object_name,offset=0.05)\n",
    "    ims = ims + i\n",
    "    states = states + s\n",
    "    i,s = grasp(grip=False)\n",
    "    ims = ims + i\n",
    "    states = states + s\n",
    "    gripper.release()\n",
    "    i,s = move_above_object(object_name,offset=0.2)\n",
    "    ims = ims + i\n",
    "    states = states + s\n",
    "    #clear_view()\n",
    "    \n",
    "    plt.cla()\n",
    "    plt.clf()\n",
    "    plt.subplot(1,3,1)\n",
    "    plt.imshow(ims[-1][0])\n",
    "    plt.title('Actual')\n",
    "    plt.subplot(1,3,2)\n",
    "    plt.imshow(ims[-1][1])\n",
    "    plt.subplot(1,3,3)\n",
    "    plt.imshow(np.swapaxes(im.numpy()[0,:,:],2,0))\n",
    "    plt.title('Target')\n",
    "    display.clear_output(wait=True)\n",
    "    display.display(plt.gcf())\n",
    "\n",
    "pr.stop()"
   ]
  },
  {
   "cell_type": "code",
   "execution_count": null,
   "metadata": {},
   "outputs": [],
   "source": [
    "pr.shutdown()"
   ]
  }
 ],
 "metadata": {
  "kernelspec": {
   "display_name": "Python 3",
   "language": "python",
   "name": "python3"
  },
  "language_info": {
   "codemirror_mode": {
    "name": "ipython",
    "version": 3
   },
   "file_extension": ".py",
   "mimetype": "text/x-python",
   "name": "python",
   "nbconvert_exporter": "python",
   "pygments_lexer": "ipython3",
   "version": "3.6.9"
  }
 },
 "nbformat": 4,
 "nbformat_minor": 2
}
