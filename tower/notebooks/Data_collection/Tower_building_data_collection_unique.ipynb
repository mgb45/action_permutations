{
 "cells": [
  {
   "cell_type": "code",
   "execution_count": null,
   "metadata": {},
   "outputs": [],
   "source": [
    "from pyrep import PyRep\n",
    "from pyrep.robots.arms.panda import Panda\n",
    "from pyrep.robots.end_effectors.panda_gripper import PandaGripper\n",
    "import numpy as np\n",
    "from matplotlib import pyplot as plt\n",
    "\n",
    "from mpl_toolkits.mplot3d import Axes3D\n",
    "from IPython import display\n",
    "\n",
    "from pyrep.objects.shape import Shape\n",
    "from pyrep.const import PrimitiveShape\n",
    "\n",
    "from scipy.spatial.transform import Rotation as R\n",
    "\n",
    "import math\n",
    "from copy import copy"
   ]
  },
  {
   "cell_type": "code",
   "execution_count": null,
   "metadata": {},
   "outputs": [],
   "source": [
    "pr = PyRep()\n",
    "pr.launch('../../assets/scene_panda_unique_blocks.ttt', headless=True)"
   ]
  },
  {
   "cell_type": "code",
   "execution_count": null,
   "metadata": {},
   "outputs": [],
   "source": [
    "agent = Panda()\n",
    "gripper = PandaGripper()"
   ]
  },
  {
   "cell_type": "code",
   "execution_count": null,
   "metadata": {},
   "outputs": [],
   "source": [
    "home_pos = agent.get_tip().get_position()\n",
    "home_orient = agent.get_tip().get_orientation()"
   ]
  },
  {
   "cell_type": "code",
   "execution_count": null,
   "metadata": {},
   "outputs": [],
   "source": [
    "def grasp(grip=False):\n",
    "    if grip:\n",
    "        pos = 0.1\n",
    "    else:\n",
    "        pos = 0.9\n",
    "    actuated = False\n",
    "    ims = []\n",
    "    states = []\n",
    "    while not actuated:\n",
    "        actuated = gripper.actuate(pos,0.1)\n",
    "        im0,im1 = get_image()\n",
    "        ims.append((im0,im1))\n",
    "        states.append(agent.get_tip().get_pose())\n",
    "    return ims,states"
   ]
  },
  {
   "cell_type": "code",
   "execution_count": null,
   "metadata": {},
   "outputs": [],
   "source": [
    "def move_above_object(object_name='',offset=0.05):\n",
    "    pos = agent.get_object(object_name).get_position()\n",
    "    pos[2] = pos[2] + offset\n",
    "    orient = [-np.pi,0,np.pi/2]\n",
    "\n",
    "    path = agent.get_path(position=pos,euler=orient)\n",
    "\n",
    "    done = False\n",
    "    ims = []\n",
    "    states = []\n",
    "    while not done:\n",
    "        done = path.step()\n",
    "        im0,im1 = get_image()\n",
    "        ims.append((im0,im1))\n",
    "        states.append(agent.get_tip().get_pose())\n",
    "    return ims,states"
   ]
  },
  {
   "cell_type": "code",
   "execution_count": null,
   "metadata": {},
   "outputs": [],
   "source": [
    "def clear_view():\n",
    "\n",
    "    path = agent.get_path(position=home_pos,euler=home_orient)\n",
    "\n",
    "    done = False\n",
    "    ims = []\n",
    "    states = []\n",
    "    while not done:\n",
    "        done = path.step()\n",
    "        im0,im1 = get_image()\n",
    "        ims.append((im0,im1))\n",
    "        states.append(agent.get_tip().get_pose())\n",
    "    return ims,states"
   ]
  },
  {
   "cell_type": "code",
   "execution_count": null,
   "metadata": {},
   "outputs": [],
   "source": [
    "def get_image():\n",
    "    cam = agent.get_object('Vision_sensor_front')\n",
    "    im0 = cam.capture_rgb()\n",
    "    cam1 = agent.get_object('Vision_sensor')\n",
    "    im1 = cam1.capture_rgb()\n",
    "    pr.step()\n",
    "    return im0, im1"
   ]
  },
  {
   "cell_type": "code",
   "execution_count": null,
   "metadata": {},
   "outputs": [],
   "source": [
    "from itertools import permutations \n",
    "obj_id_list = list(permutations(range(0, 6))) "
   ]
  },
  {
   "cell_type": "code",
   "execution_count": null,
   "metadata": {
    "scrolled": false
   },
   "outputs": [],
   "source": [
    "for run in range(len(obj_id_list)):\n",
    "\n",
    "    obj_ids = obj_id_list[run]\n",
    "    \n",
    "    pr.start()\n",
    "\n",
    "    grasp(grip=False)\n",
    "    gripper.release()\n",
    "    ims = []\n",
    "    states = []\n",
    "    for j in range(1,6):\n",
    "        object_name = 'Cuboid%d'%obj_ids[j]\n",
    "        i,s = move_above_object(object_name,offset=0.08)\n",
    "        ims = ims + i\n",
    "        states = states + s\n",
    "        i,s = move_above_object(object_name,offset=0)\n",
    "        ims = ims + i\n",
    "        states = states + s\n",
    "        i,s = grasp(grip=True)\n",
    "        ims = ims + i\n",
    "        states = states + s\n",
    "        gripper.grasp(agent.get_object(object_name))\n",
    "        i,s = move_above_object(object_name,offset=0.08)\n",
    "        ims = ims + i\n",
    "        states = states + s\n",
    "        object_name = 'Cuboid%d'%obj_ids[j-1]\n",
    "        i,s = move_above_object(object_name,offset=0.15)\n",
    "        ims = ims + i\n",
    "        states = states + s\n",
    "        i,s = move_above_object(object_name,offset=0.05)\n",
    "        ims = ims + i\n",
    "        states = states + s\n",
    "        i,s = grasp(grip=False)\n",
    "        ims = ims + i\n",
    "        states = states + s\n",
    "        gripper.release()\n",
    "        i,s = move_above_object(object_name,offset=0.2)\n",
    "        ims = ims + i\n",
    "        states = states + s\n",
    "        #clear_view()\n",
    "\n",
    "#         plt.cla()\n",
    "#         plt.clf()\n",
    "#         plt.subplot(1,2,1)\n",
    "#         plt.imshow(ims[-1][0])\n",
    "#         plt.subplot(1,2,2)\n",
    "#         plt.imshow(ims[-1][1])\n",
    "#         display.clear_output(wait=True)\n",
    "#         display.display(plt.gcf())\n",
    "\n",
    "    pr.stop()\n",
    "\n",
    "    np.save('../../demos/perms_unique/ims_%04d.npy'%run, np.stack(ims)[-1][0])\n",
    "    np.save('../../demos/perms_unique/order_%04d.npy'%run, obj_ids)"
   ]
  },
  {
   "cell_type": "code",
   "execution_count": null,
   "metadata": {},
   "outputs": [],
   "source": [
    "for i,im in enumerate(ims):\n",
    "    plt.cla()\n",
    "    plt.clf()\n",
    "    plt.subplot(2,2,1)\n",
    "    plt.imshow(im[0])\n",
    "    plt.subplot(2,2,2)\n",
    "    plt.imshow(im[1])\n",
    "    plt.subplot(2,1,2)\n",
    "    plt.plot(np.vstack(states)[0:i,:])\n",
    "    display.clear_output(wait=True)\n",
    "    display.display(plt.gcf())"
   ]
  },
  {
   "cell_type": "code",
   "execution_count": null,
   "metadata": {},
   "outputs": [],
   "source": [
    "pr.shutdown()"
   ]
  }
 ],
 "metadata": {
  "kernelspec": {
   "display_name": "Python 3",
   "language": "python",
   "name": "python3"
  },
  "language_info": {
   "codemirror_mode": {
    "name": "ipython",
    "version": 3
   },
   "file_extension": ".py",
   "mimetype": "text/x-python",
   "name": "python",
   "nbconvert_exporter": "python",
   "pygments_lexer": "ipython3",
   "version": "3.6.9"
  }
 },
 "nbformat": 4,
 "nbformat_minor": 2
}
